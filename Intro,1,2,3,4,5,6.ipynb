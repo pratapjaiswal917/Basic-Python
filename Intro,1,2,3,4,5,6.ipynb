{
 "cells": [
  {
   "cell_type": "markdown",
   "id": "b43af0ac",
   "metadata": {},
   "source": [
    "# Introduction in python 1 module"
   ]
  },
  {
   "cell_type": "markdown",
   "id": "eb4bb74e",
   "metadata": {},
   "source": [
    "## What is Python ?"
   ]
  },
  {
   "cell_type": "markdown",
   "id": "c0c359cd",
   "metadata": {},
   "source": [
    "* General-Purpose Language**: Python is a versatile programming language used for a wide range of applications.\n",
    "* High-Level Language**: Python is designed to be easy to read and write, with a syntax close to human language.\n",
    "* Interpreted Language**: Python code is executed line by line, which makes debugging easier.\n",
    "* Dynamically Typed**: Variable types are determined at runtime, not in advance.\n",
    "* Open Source**: Python is free to use and distribute, with its source code available to the public.\n",
    "* Extensive Libraries**: Python has a vast standard library and a large ecosystem of third-party libraries and frameworks.\n",
    "* Cross-Platform**: Python can run on various operating systems, including Windows, macOS, and Linux.\n",
    "* Strong Community Support**: Python has a large and active community, contributing to its development and offering support.\n",
    "* Popular in Data Science**: Widely used for data analysis, machine learning, and scientific computing with libraries like NumPy, Pandas, and scikit-learn.\n",
    "* Web Development**: Popular frameworks like Django and Flask make it a strong choice for building web applications.\n",
    "* Automation and Scripting**: Commonly used for scripting to automate tasks and workflows.\n",
    "* Object-Oriented**: Supports object-oriented programming (OOP) principles, allowing for modular and reusable code.\n",
    "* Readable and Maintainable Code**: Emphasizes code readability, reducing the cost of program maintenance.\n",
    "* Rapid Development**: Python's simplicity and ease of use allow for quick development and prototyping.\n",
    "\n"
   ]
  },
  {
   "cell_type": "markdown",
   "id": "12849c9a",
   "metadata": {},
   "source": [
    "# Data types"
   ]
  },
  {
   "cell_type": "markdown",
   "id": "cad01e1c",
   "metadata": {},
   "source": [
    "* integer - 1,2,101,201\n",
    "* Bolean - True, False\n",
    "* string - alpha,alpha123,\n",
    "* float - 2.5,1.04\n",
    "* pwd to cheeck path "
   ]
  },
  {
   "cell_type": "code",
   "execution_count": 1,
   "id": "26bb3db8",
   "metadata": {},
   "outputs": [
    {
     "name": "stdout",
     "output_type": "stream",
     "text": [
      "10\n"
     ]
    }
   ],
   "source": [
    "a = 10\n",
    "print (a)\n"
   ]
  },
  {
   "cell_type": "code",
   "execution_count": 2,
   "id": "46dc40a9",
   "metadata": {},
   "outputs": [
    {
     "data": {
      "text/plain": [
       "'C:\\\\Users\\\\prata\\\\Downloads'"
      ]
     },
     "execution_count": 2,
     "metadata": {},
     "output_type": "execute_result"
    }
   ],
   "source": [
    "pwd"
   ]
  },
  {
   "cell_type": "code",
   "execution_count": 3,
   "id": "479e820c",
   "metadata": {},
   "outputs": [
    {
     "name": "stdout",
     "output_type": "stream",
     "text": [
      "10\n"
     ]
    }
   ],
   "source": [
    "print (a)"
   ]
  },
  {
   "cell_type": "code",
   "execution_count": 4,
   "id": "73f29940",
   "metadata": {
    "scrolled": true
   },
   "outputs": [
    {
     "data": {
      "text/plain": [
       "int"
      ]
     },
     "execution_count": 4,
     "metadata": {},
     "output_type": "execute_result"
    }
   ],
   "source": [
    "# Data types\n",
    "type (a)"
   ]
  },
  {
   "cell_type": "markdown",
   "id": "37029282",
   "metadata": {},
   "source": [
    "# float "
   ]
  },
  {
   "cell_type": "code",
   "execution_count": 5,
   "id": "324ede28",
   "metadata": {},
   "outputs": [
    {
     "name": "stdout",
     "output_type": "stream",
     "text": [
      "10.05\n"
     ]
    }
   ],
   "source": [
    "b = 10.05\n",
    "print(b)"
   ]
  },
  {
   "cell_type": "code",
   "execution_count": 6,
   "id": "1a91b776",
   "metadata": {},
   "outputs": [
    {
     "data": {
      "text/plain": [
       "float"
      ]
     },
     "execution_count": 6,
     "metadata": {},
     "output_type": "execute_result"
    }
   ],
   "source": [
    "type (b)"
   ]
  },
  {
   "cell_type": "markdown",
   "id": "51bd794e",
   "metadata": {},
   "source": [
    "# BOLEAN"
   ]
  },
  {
   "cell_type": "code",
   "execution_count": 7,
   "id": "fd1c0d1f",
   "metadata": {},
   "outputs": [
    {
     "name": "stdout",
     "output_type": "stream",
     "text": [
      "True False\n"
     ]
    }
   ],
   "source": [
    " c = True\n",
    " d = False\n",
    "print (c,d)"
   ]
  },
  {
   "cell_type": "code",
   "execution_count": 8,
   "id": "549b34df",
   "metadata": {},
   "outputs": [
    {
     "data": {
      "text/plain": [
       "bool"
      ]
     },
     "execution_count": 8,
     "metadata": {},
     "output_type": "execute_result"
    }
   ],
   "source": [
    "type (c)"
   ]
  },
  {
   "cell_type": "markdown",
   "id": "bd567c03",
   "metadata": {},
   "source": [
    "## Operations in Integer and Float\n",
    "  * 1 ADD (+)\n",
    "  * 2 SUB (-)\n",
    "  * 3 MUL (*)\n",
    "  * 4 DIV (/)\n",
    "  * 5 floor(//)\n",
    "  * 6 modulus(%)\n",
    "  * 7 (power **)\n"
   ]
  },
  {
   "cell_type": "code",
   "execution_count": 8,
   "id": "059cb861",
   "metadata": {},
   "outputs": [
    {
     "name": "stdout",
     "output_type": "stream",
     "text": [
      "10 10.05\n",
      "Addition of A & B == 20.05\n",
      "Subtraction of A & B == 0.05000000000000071\n",
      "Multiplication of A & B == 100.5\n",
      "Division of a & B == 0.9950248756218905\n",
      "floor Division of A & B == 0.0\n",
      "modulus of A & B == 0\n",
      "modulus of A & B == 1\n",
      "power of A by 2 == 101.00250000000001\n"
     ]
    }
   ],
   "source": [
    "print(a,b)\n",
    "print(\"Addition of A & B ==\", a + b)\n",
    "print(\"Subtraction of A & B ==\", b - a)\n",
    "print(\"Multiplication of A & B ==\",a * b)\n",
    "print(\"Division of a & B ==\", a / b)\n",
    "print(\"floor Division of A & B ==\", a//b)\n",
    "print(\"modulus of A & B ==\", a % 2)\n",
    "print(\"modulus of A & B ==\",a % 3)\n",
    "print (\"power of A by 2 ==\", b ** 2)\n"
   ]
  },
  {
   "cell_type": "markdown",
   "id": "42d50ae2",
   "metadata": {},
   "source": [
    "### string"
   ]
  },
  {
   "cell_type": "code",
   "execution_count": 9,
   "id": "606740da",
   "metadata": {},
   "outputs": [
    {
     "name": "stdout",
     "output_type": "stream",
     "text": [
      "Python Programing\n"
     ]
    }
   ],
   "source": [
    "p = \"Python Programing\" \n",
    "print(p)"
   ]
  },
  {
   "cell_type": "markdown",
   "id": "5e65e9f7",
   "metadata": {},
   "source": [
    "## Indexing---slicing and dicing the data"
   ]
  },
  {
   "cell_type": "code",
   "execution_count": 10,
   "id": "839e4ca0",
   "metadata": {},
   "outputs": [
    {
     "name": "stdout",
     "output_type": "stream",
     "text": [
      "Python \n"
     ]
    }
   ],
   "source": [
    "p = \"Python \"\n",
    "print(p)"
   ]
  },
  {
   "cell_type": "code",
   "execution_count": 11,
   "id": "f464ae78",
   "metadata": {},
   "outputs": [
    {
     "data": {
      "text/plain": [
       "'P'"
      ]
     },
     "execution_count": 11,
     "metadata": {},
     "output_type": "execute_result"
    }
   ],
   "source": [
    "p[0]"
   ]
  },
  {
   "cell_type": "code",
   "execution_count": 13,
   "id": "3ef5d61d",
   "metadata": {},
   "outputs": [
    {
     "data": {
      "text/plain": [
       "'n'"
      ]
     },
     "execution_count": 13,
     "metadata": {},
     "output_type": "execute_result"
    }
   ],
   "source": [
    "p[5]"
   ]
  },
  {
   "cell_type": "markdown",
   "id": "0a39daf0",
   "metadata": {},
   "source": [
    "## p[:]  syntax for accessing the data\n"
   ]
  },
  {
   "cell_type": "markdown",
   "id": "8263bb1c",
   "metadata": {},
   "source": [
    "#p[:] start and end\n"
   ]
  },
  {
   "cell_type": "code",
   "execution_count": 32,
   "id": "b5a65e56",
   "metadata": {},
   "outputs": [
    {
     "data": {
      "text/plain": [
       "'Python '"
      ]
     },
     "execution_count": 32,
     "metadata": {},
     "output_type": "execute_result"
    }
   ],
   "source": [
    "p[:]"
   ]
  },
  {
   "cell_type": "code",
   "execution_count": 34,
   "id": "3e59111b",
   "metadata": {},
   "outputs": [
    {
     "data": {
      "text/plain": [
       "'thon '"
      ]
     },
     "execution_count": 34,
     "metadata": {},
     "output_type": "execute_result"
    }
   ],
   "source": [
    "p[2:]"
   ]
  },
  {
   "cell_type": "code",
   "execution_count": 36,
   "id": "80eee0ee",
   "metadata": {},
   "outputs": [
    {
     "data": {
      "text/plain": [
       "'Pyt'"
      ]
     },
     "execution_count": 36,
     "metadata": {},
     "output_type": "execute_result"
    }
   ],
   "source": [
    "p[:3]"
   ]
  },
  {
   "cell_type": "code",
   "execution_count": 38,
   "id": "a9a1336a",
   "metadata": {},
   "outputs": [
    {
     "data": {
      "text/plain": [
       "'tho'"
      ]
     },
     "execution_count": 38,
     "metadata": {},
     "output_type": "execute_result"
    }
   ],
   "source": [
    "p[2:5]"
   ]
  },
  {
   "cell_type": "code",
   "execution_count": 50,
   "id": "cd207f00",
   "metadata": {},
   "outputs": [
    {
     "name": "stdout",
     "output_type": "stream",
     "text": [
      "python\n"
     ]
    }
   ],
   "source": [
    "p ='python'\n",
    "print(p)"
   ]
  },
  {
   "cell_type": "code",
   "execution_count": 51,
   "id": "de3eaaee",
   "metadata": {},
   "outputs": [
    {
     "data": {
      "text/plain": [
       "'p'"
      ]
     },
     "execution_count": 51,
     "metadata": {},
     "output_type": "execute_result"
    }
   ],
   "source": [
    "p[0]"
   ]
  },
  {
   "cell_type": "code",
   "execution_count": 53,
   "id": "306719d6",
   "metadata": {},
   "outputs": [
    {
     "data": {
      "text/plain": [
       "'p'"
      ]
     },
     "execution_count": 53,
     "metadata": {},
     "output_type": "execute_result"
    }
   ],
   "source": [
    "p[-6]"
   ]
  },
  {
   "cell_type": "code",
   "execution_count": 14,
   "id": "78d54f8c",
   "metadata": {},
   "outputs": [
    {
     "data": {
      "text/plain": [
       "'python'"
      ]
     },
     "execution_count": 14,
     "metadata": {},
     "output_type": "execute_result"
    }
   ],
   "source": [
    "p[:]"
   ]
  },
  {
   "cell_type": "code",
   "execution_count": 15,
   "id": "a29fa249",
   "metadata": {},
   "outputs": [
    {
     "data": {
      "text/plain": [
       "'ython'"
      ]
     },
     "execution_count": 15,
     "metadata": {},
     "output_type": "execute_result"
    }
   ],
   "source": [
    "p[1:]"
   ]
  },
  {
   "cell_type": "code",
   "execution_count": 16,
   "id": "79dd9285",
   "metadata": {},
   "outputs": [
    {
     "data": {
      "text/plain": [
       "'pytho'"
      ]
     },
     "execution_count": 16,
     "metadata": {},
     "output_type": "execute_result"
    }
   ],
   "source": [
    "p[:-1]"
   ]
  },
  {
   "cell_type": "code",
   "execution_count": 17,
   "id": "7fe7954d",
   "metadata": {},
   "outputs": [
    {
     "data": {
      "text/plain": [
       "'ytho'"
      ]
     },
     "execution_count": 17,
     "metadata": {},
     "output_type": "execute_result"
    }
   ],
   "source": [
    "p[1:-1]"
   ]
  },
  {
   "cell_type": "code",
   "execution_count": 18,
   "id": "2b904cbf",
   "metadata": {},
   "outputs": [
    {
     "data": {
      "text/plain": [
       "'th'"
      ]
     },
     "execution_count": 18,
     "metadata": {},
     "output_type": "execute_result"
    }
   ],
   "source": [
    "p[2:-2]"
   ]
  },
  {
   "cell_type": "code",
   "execution_count": 19,
   "id": "8a544698",
   "metadata": {},
   "outputs": [
    {
     "data": {
      "text/plain": [
       "''"
      ]
     },
     "execution_count": 19,
     "metadata": {},
     "output_type": "execute_result"
    }
   ],
   "source": [
    "p[3:-3]"
   ]
  },
  {
   "cell_type": "code",
   "execution_count": 20,
   "id": "c7a55336",
   "metadata": {},
   "outputs": [
    {
     "data": {
      "text/plain": [
       "'t'"
      ]
     },
     "execution_count": 20,
     "metadata": {},
     "output_type": "execute_result"
    }
   ],
   "source": [
    "p[2:-3]"
   ]
  },
  {
   "cell_type": "code",
   "execution_count": 21,
   "id": "9660c1f9",
   "metadata": {},
   "outputs": [
    {
     "data": {
      "text/plain": [
       "'t'"
      ]
     },
     "execution_count": 21,
     "metadata": {},
     "output_type": "execute_result"
    }
   ],
   "source": [
    "p[2:3]"
   ]
  },
  {
   "cell_type": "markdown",
   "id": "324ef95b",
   "metadata": {},
   "source": [
    "# methods in string\n"
   ]
  },
  {
   "cell_type": "code",
   "execution_count": 54,
   "id": "0533b5bc",
   "metadata": {},
   "outputs": [
    {
     "data": {
      "text/plain": [
       "'python'"
      ]
     },
     "execution_count": 54,
     "metadata": {},
     "output_type": "execute_result"
    }
   ],
   "source": [
    "p"
   ]
  },
  {
   "cell_type": "code",
   "execution_count": 55,
   "id": "f872a21f",
   "metadata": {},
   "outputs": [
    {
     "data": {
      "text/plain": [
       "'PYTHON'"
      ]
     },
     "execution_count": 55,
     "metadata": {},
     "output_type": "execute_result"
    }
   ],
   "source": [
    "p.upper()"
   ]
  },
  {
   "cell_type": "code",
   "execution_count": 24,
   "id": "75f5be3a",
   "metadata": {},
   "outputs": [
    {
     "data": {
      "text/plain": [
       "'python'"
      ]
     },
     "execution_count": 24,
     "metadata": {},
     "output_type": "execute_result"
    }
   ],
   "source": [
    "p.lower()"
   ]
  },
  {
   "cell_type": "code",
   "execution_count": 25,
   "id": "a2406848",
   "metadata": {},
   "outputs": [
    {
     "data": {
      "text/plain": [
       "'Python'"
      ]
     },
     "execution_count": 25,
     "metadata": {},
     "output_type": "execute_result"
    }
   ],
   "source": [
    "p.title() # only starting word in whole paragraph will change in caps letter"
   ]
  },
  {
   "cell_type": "code",
   "execution_count": 26,
   "id": "0a60e765",
   "metadata": {},
   "outputs": [
    {
     "data": {
      "text/plain": [
       "'Python'"
      ]
     },
     "execution_count": 26,
     "metadata": {},
     "output_type": "execute_result"
    }
   ],
   "source": [
    "p.capitalize() # it will only change starting word of leter"
   ]
  },
  {
   "cell_type": "code",
   "execution_count": 29,
   "id": "af97d243",
   "metadata": {},
   "outputs": [
    {
     "data": {
      "text/plain": [
       "'PYTHON'"
      ]
     },
     "execution_count": 29,
     "metadata": {},
     "output_type": "execute_result"
    }
   ],
   "source": [
    "p.swapcase() # all letter in caps accept start letter"
   ]
  },
  {
   "cell_type": "code",
   "execution_count": 58,
   "id": "4556a0a3",
   "metadata": {},
   "outputs": [
    {
     "data": {
      "text/plain": [
       "['python', 'language']"
      ]
     },
     "execution_count": 58,
     "metadata": {},
     "output_type": "execute_result"
    }
   ],
   "source": [
    "\"python language\".split()"
   ]
  },
  {
   "cell_type": "code",
   "execution_count": 60,
   "id": "e4308a9d",
   "metadata": {},
   "outputs": [
    {
     "data": {
      "text/plain": [
       "6"
      ]
     },
     "execution_count": 60,
     "metadata": {},
     "output_type": "execute_result"
    }
   ],
   "source": [
    "len(p)"
   ]
  },
  {
   "cell_type": "code",
   "execution_count": 61,
   "id": "638bb317",
   "metadata": {},
   "outputs": [
    {
     "data": {
      "text/plain": [
       "15"
      ]
     },
     "execution_count": 61,
     "metadata": {},
     "output_type": "execute_result"
    }
   ],
   "source": [
    "len('python language')"
   ]
  },
  {
   "cell_type": "code",
   "execution_count": 34,
   "id": "63ec9fae",
   "metadata": {},
   "outputs": [
    {
     "data": {
      "text/plain": [
       "2"
      ]
     },
     "execution_count": 34,
     "metadata": {},
     "output_type": "execute_result"
    }
   ],
   "source": [
    "p.index(\"t\")"
   ]
  },
  {
   "cell_type": "code",
   "execution_count": 35,
   "id": "2b3401d6",
   "metadata": {},
   "outputs": [
    {
     "data": {
      "text/plain": [
       "10"
      ]
     },
     "execution_count": 35,
     "metadata": {},
     "output_type": "execute_result"
    }
   ],
   "source": [
    "\"python language\".index('g')"
   ]
  },
  {
   "cell_type": "code",
   "execution_count": 62,
   "id": "45aaf745",
   "metadata": {},
   "outputs": [
    {
     "data": {
      "text/plain": [
       "11"
      ]
     },
     "execution_count": 62,
     "metadata": {},
     "output_type": "execute_result"
    }
   ],
   "source": [
    "\"python language\".find('u')"
   ]
  },
  {
   "cell_type": "code",
   "execution_count": 39,
   "id": "e84436a5",
   "metadata": {},
   "outputs": [
    {
     "data": {
      "text/plain": [
       "13"
      ]
     },
     "execution_count": 39,
     "metadata": {},
     "output_type": "execute_result"
    }
   ],
   "source": [
    "\"python language\".find('g',11,14)"
   ]
  },
  {
   "cell_type": "code",
   "execution_count": 66,
   "id": "674f7a92",
   "metadata": {},
   "outputs": [
    {
     "data": {
      "text/plain": [
       "['__add__',\n",
       " '__class__',\n",
       " '__class_getitem__',\n",
       " '__contains__',\n",
       " '__delattr__',\n",
       " '__dir__',\n",
       " '__doc__',\n",
       " '__eq__',\n",
       " '__format__',\n",
       " '__ge__',\n",
       " '__getattribute__',\n",
       " '__getitem__',\n",
       " '__getnewargs__',\n",
       " '__gt__',\n",
       " '__hash__',\n",
       " '__init__',\n",
       " '__init_subclass__',\n",
       " '__iter__',\n",
       " '__le__',\n",
       " '__len__',\n",
       " '__lt__',\n",
       " '__mul__',\n",
       " '__ne__',\n",
       " '__new__',\n",
       " '__reduce__',\n",
       " '__reduce_ex__',\n",
       " '__repr__',\n",
       " '__rmul__',\n",
       " '__setattr__',\n",
       " '__sizeof__',\n",
       " '__str__',\n",
       " '__subclasshook__',\n",
       " 'count',\n",
       " 'index']"
      ]
     },
     "execution_count": 66,
     "metadata": {},
     "output_type": "execute_result"
    }
   ],
   "source": [
    "dir(tuple)"
   ]
  },
  {
   "cell_type": "code",
   "execution_count": 85,
   "id": "066d72c7",
   "metadata": {},
   "outputs": [
    {
     "data": {
      "text/plain": [
       "['__add__',\n",
       " '__class__',\n",
       " '__class_getitem__',\n",
       " '__contains__',\n",
       " '__delattr__',\n",
       " '__delitem__',\n",
       " '__dir__',\n",
       " '__doc__',\n",
       " '__eq__',\n",
       " '__format__',\n",
       " '__ge__',\n",
       " '__getattribute__',\n",
       " '__getitem__',\n",
       " '__gt__',\n",
       " '__hash__',\n",
       " '__iadd__',\n",
       " '__imul__',\n",
       " '__init__',\n",
       " '__init_subclass__',\n",
       " '__iter__',\n",
       " '__le__',\n",
       " '__len__',\n",
       " '__lt__',\n",
       " '__mul__',\n",
       " '__ne__',\n",
       " '__new__',\n",
       " '__reduce__',\n",
       " '__reduce_ex__',\n",
       " '__repr__',\n",
       " '__reversed__',\n",
       " '__rmul__',\n",
       " '__setattr__',\n",
       " '__setitem__',\n",
       " '__sizeof__',\n",
       " '__str__',\n",
       " '__subclasshook__',\n",
       " 'append',\n",
       " 'clear',\n",
       " 'copy',\n",
       " 'count',\n",
       " 'extend',\n",
       " 'index',\n",
       " 'insert',\n",
       " 'pop',\n",
       " 'remove',\n",
       " 'reverse',\n",
       " 'sort']"
      ]
     },
     "execution_count": 85,
     "metadata": {},
     "output_type": "execute_result"
    }
   ],
   "source": [
    "dir(list)"
   ]
  },
  {
   "cell_type": "code",
   "execution_count": 1,
   "id": "19af64f8",
   "metadata": {},
   "outputs": [
    {
     "data": {
      "text/plain": [
       "'C:\\\\Users\\\\prata\\\\Downloads'"
      ]
     },
     "execution_count": 1,
     "metadata": {},
     "output_type": "execute_result"
    }
   ],
   "source": [
    "pwd\n"
   ]
  },
  {
   "cell_type": "markdown",
   "id": "39caf494",
   "metadata": {},
   "source": [
    "# 2 Module of Python\n"
   ]
  },
  {
   "cell_type": "markdown",
   "id": "31d17e7f",
   "metadata": {},
   "source": [
    "# Data structures "
   ]
  },
  {
   "cell_type": "markdown",
   "id": "f3175cec",
   "metadata": {},
   "source": [
    "# 1.List - []\n",
    "# 2.Tuple - ()\n",
    "# 3.Dictonary - {:}\n",
    "# 4.sets - {}"
   ]
  },
  {
   "cell_type": "markdown",
   "id": "3d14060d",
   "metadata": {},
   "source": [
    "# List \n",
    "* 1.ordered in nature\n",
    "* 2.list accept all data type(hetrogeneous)\n",
    "* 3.Allows duplicates\n",
    "* 4.mutable(changeable)"
   ]
  },
  {
   "cell_type": "code",
   "execution_count": 68,
   "id": "17628280",
   "metadata": {},
   "outputs": [
    {
     "data": {
      "text/plain": [
       "[1, 2, 3, 4, 5, 'python', 'Test', 'True', 12.55]"
      ]
     },
     "execution_count": 68,
     "metadata": {},
     "output_type": "execute_result"
    }
   ],
   "source": [
    "a = [1,2,3,4,5,'python','Test','True',12.55]\n",
    "a"
   ]
  },
  {
   "cell_type": "code",
   "execution_count": 69,
   "id": "b51f29ab",
   "metadata": {},
   "outputs": [
    {
     "data": {
      "text/plain": [
       "[1, 2, 3, 4, 5, 'list', 'Test', 'True', 12.55]"
      ]
     },
     "execution_count": 69,
     "metadata": {},
     "output_type": "execute_result"
    }
   ],
   "source": [
    "a[5] = 'list'\n",
    "a"
   ]
  },
  {
   "cell_type": "code",
   "execution_count": 70,
   "id": "44699580",
   "metadata": {},
   "outputs": [
    {
     "data": {
      "text/plain": [
       "[1, 2, 3, 4, 5, 'list', 'Test', 'True', 12.55, 'python']"
      ]
     },
     "execution_count": 70,
     "metadata": {},
     "output_type": "execute_result"
    }
   ],
   "source": [
    "a.append('python')\n",
    "a"
   ]
  },
  {
   "cell_type": "code",
   "execution_count": 53,
   "id": "0b8e82f5",
   "metadata": {},
   "outputs": [
    {
     "data": {
      "text/plain": [
       "[1, 2, 3, 4, 5, 'list', 'Test', 'True', 12.55]"
      ]
     },
     "execution_count": 53,
     "metadata": {},
     "output_type": "execute_result"
    }
   ],
   "source": [
    "a.pop()\n",
    "a"
   ]
  },
  {
   "cell_type": "markdown",
   "id": "02f819e4",
   "metadata": {},
   "source": [
    "# creating list in different ways"
   ]
  },
  {
   "cell_type": "code",
   "execution_count": 55,
   "id": "765b2b02",
   "metadata": {},
   "outputs": [
    {
     "data": {
      "text/plain": [
       "[1, 2, 3, 4, 5]"
      ]
     },
     "execution_count": 55,
     "metadata": {},
     "output_type": "execute_result"
    }
   ],
   "source": [
    "a = [1,2,3,4,5]\n",
    "a"
   ]
  },
  {
   "cell_type": "code",
   "execution_count": 63,
   "id": "04f56b4c",
   "metadata": {},
   "outputs": [
    {
     "data": {
      "text/plain": [
       "[1, 2, 3, 4, 5]"
      ]
     },
     "execution_count": 63,
     "metadata": {},
     "output_type": "execute_result"
    }
   ],
   "source": [
    "a =([1,2,3,4,5])\n",
    "a"
   ]
  },
  {
   "cell_type": "code",
   "execution_count": 1,
   "id": "da45551a",
   "metadata": {},
   "outputs": [
    {
     "data": {
      "text/plain": [
       "['a', 'b', 'c', 'd', 'e']"
      ]
     },
     "execution_count": 1,
     "metadata": {},
     "output_type": "execute_result"
    }
   ],
   "source": [
    "list('abcde')\n"
   ]
  },
  {
   "cell_type": "code",
   "execution_count": 7,
   "id": "eb67ecbb",
   "metadata": {},
   "outputs": [
    {
     "data": {
      "text/plain": [
       "['a', 'b', 'c', 'd']"
      ]
     },
     "execution_count": 7,
     "metadata": {},
     "output_type": "execute_result"
    }
   ],
   "source": [
    "a1 = list(['a','b','c','d'])\n",
    "a1"
   ]
  },
  {
   "cell_type": "code",
   "execution_count": 8,
   "id": "c711234c",
   "metadata": {},
   "outputs": [
    {
     "data": {
      "text/plain": [
       "['a', 'b', 'c', 'd', 'e', 'f']"
      ]
     },
     "execution_count": 8,
     "metadata": {},
     "output_type": "execute_result"
    }
   ],
   "source": [
    "list(\"abcdef\")"
   ]
  },
  {
   "cell_type": "code",
   "execution_count": 71,
   "id": "452f66d4",
   "metadata": {},
   "outputs": [
    {
     "data": {
      "text/plain": [
       "[0, 1, 2, 3, 4, 5, 6, 7, 8, 9, 10]"
      ]
     },
     "execution_count": 71,
     "metadata": {},
     "output_type": "execute_result"
    }
   ],
   "source": [
    "list(range(11))"
   ]
  },
  {
   "cell_type": "code",
   "execution_count": 72,
   "id": "ed6daa71",
   "metadata": {},
   "outputs": [
    {
     "data": {
      "text/plain": [
       "[2, 4, 6, 8, 10, 12, 14, 16, 18, 20]"
      ]
     },
     "execution_count": 72,
     "metadata": {},
     "output_type": "execute_result"
    }
   ],
   "source": [
    "list(range(2,21,2))"
   ]
  },
  {
   "cell_type": "code",
   "execution_count": 84,
   "id": "4572cce9",
   "metadata": {},
   "outputs": [
    {
     "data": {
      "text/plain": [
       "[10, 11, 12, 13, 14, 15, 16, 17, 18, 19, 20]"
      ]
     },
     "execution_count": 84,
     "metadata": {},
     "output_type": "execute_result"
    }
   ],
   "source": [
    "list(range(10,21))"
   ]
  },
  {
   "cell_type": "code",
   "execution_count": 1,
   "id": "b5a49530",
   "metadata": {},
   "outputs": [
    {
     "data": {
      "text/plain": [
       "['p', 'y', 't', 'h', 'o', 'n']"
      ]
     },
     "execution_count": 1,
     "metadata": {},
     "output_type": "execute_result"
    }
   ],
   "source": [
    "list('python')"
   ]
  },
  {
   "cell_type": "code",
   "execution_count": 2,
   "id": "2fd1476c",
   "metadata": {},
   "outputs": [
    {
     "data": {
      "text/plain": [
       "[1, 2, 3]"
      ]
     },
     "execution_count": 2,
     "metadata": {},
     "output_type": "execute_result"
    }
   ],
   "source": [
    "list([1,2,3])"
   ]
  },
  {
   "cell_type": "code",
   "execution_count": null,
   "id": "7a10613f",
   "metadata": {},
   "outputs": [],
   "source": [
    "[::]# Start,End,interval"
   ]
  },
  {
   "cell_type": "code",
   "execution_count": 73,
   "id": "5c350543",
   "metadata": {},
   "outputs": [
    {
     "data": {
      "text/plain": [
       "[1, 2, 3, 4, 5, 'python', 'Test', 'True', 12.55]"
      ]
     },
     "execution_count": 73,
     "metadata": {},
     "output_type": "execute_result"
    }
   ],
   "source": [
    "a = [1,2,3,4,5,'python','Test','True',12.55]\n",
    "a"
   ]
  },
  {
   "cell_type": "code",
   "execution_count": 4,
   "id": "e377e8d5",
   "metadata": {},
   "outputs": [
    {
     "data": {
      "text/plain": [
       "[1, 2, 3, 4, 5, 'python', 'Test', 'True', 12.55]"
      ]
     },
     "execution_count": 4,
     "metadata": {},
     "output_type": "execute_result"
    }
   ],
   "source": [
    "a[::]"
   ]
  },
  {
   "cell_type": "code",
   "execution_count": 5,
   "id": "ca331ec5",
   "metadata": {},
   "outputs": [
    {
     "data": {
      "text/plain": [
       "[1, 2, 3, 4, 5, 'python', 'Test', 'True', 12.55]"
      ]
     },
     "execution_count": 5,
     "metadata": {},
     "output_type": "execute_result"
    }
   ],
   "source": [
    "a[:]"
   ]
  },
  {
   "cell_type": "code",
   "execution_count": 6,
   "id": "6c7e397f",
   "metadata": {},
   "outputs": [
    {
     "data": {
      "text/plain": [
       "[3, 4, 5, 'python', 'Test', 'True', 12.55]"
      ]
     },
     "execution_count": 6,
     "metadata": {},
     "output_type": "execute_result"
    }
   ],
   "source": [
    "a[2:9:]"
   ]
  },
  {
   "cell_type": "code",
   "execution_count": 74,
   "id": "f4494623",
   "metadata": {},
   "outputs": [
    {
     "data": {
      "text/plain": [
       "[1, 3, 5, 'Test', 12.55]"
      ]
     },
     "execution_count": 74,
     "metadata": {},
     "output_type": "execute_result"
    }
   ],
   "source": [
    "a[0:9:2]"
   ]
  },
  {
   "cell_type": "code",
   "execution_count": 9,
   "id": "f6e31e1a",
   "metadata": {},
   "outputs": [
    {
     "data": {
      "text/plain": [
       "[12.55, 'True', 'Test', 'python', 5, 4, 3, 2, 1]"
      ]
     },
     "execution_count": 9,
     "metadata": {},
     "output_type": "execute_result"
    }
   ],
   "source": [
    "# reverse the list\n",
    "a[::-1]\n"
   ]
  },
  {
   "cell_type": "code",
   "execution_count": 10,
   "id": "069cf808",
   "metadata": {},
   "outputs": [
    {
     "data": {
      "text/plain": [
       "[1, 2, 3, 4, 5, 'python', 'Test', 'True']"
      ]
     },
     "execution_count": 10,
     "metadata": {},
     "output_type": "execute_result"
    }
   ],
   "source": [
    "a[:-1:]"
   ]
  },
  {
   "cell_type": "code",
   "execution_count": 11,
   "id": "1b4027b9",
   "metadata": {},
   "outputs": [
    {
     "data": {
      "text/plain": [
       "[12.55]"
      ]
     },
     "execution_count": 11,
     "metadata": {},
     "output_type": "execute_result"
    }
   ],
   "source": [
    "a[-1::]"
   ]
  },
  {
   "cell_type": "markdown",
   "id": "1eb08f85",
   "metadata": {},
   "source": [
    "# operation/ methods in list"
   ]
  },
  {
   "cell_type": "code",
   "execution_count": 86,
   "id": "7356b5f3",
   "metadata": {},
   "outputs": [
    {
     "data": {
      "text/plain": [
       "[1, 2, 3, 4, 5, 'python', 'Test', 'True', 12.55]"
      ]
     },
     "execution_count": 86,
     "metadata": {},
     "output_type": "execute_result"
    }
   ],
   "source": [
    "a"
   ]
  },
  {
   "cell_type": "code",
   "execution_count": 104,
   "id": "56c8c8d9",
   "metadata": {},
   "outputs": [
    {
     "data": {
      "text/plain": [
       "[1,\n",
       " 2,\n",
       " 3,\n",
       " 4,\n",
       " 5,\n",
       " 'python',\n",
       " 'pratap',\n",
       " 'pratap',\n",
       " 'Test',\n",
       " 'True',\n",
       " 12.55,\n",
       " 'gun',\n",
       " 45,\n",
       " 56,\n",
       " 'gun']"
      ]
     },
     "execution_count": 104,
     "metadata": {},
     "output_type": "execute_result"
    }
   ],
   "source": [
    "a.append('gun')\n",
    "a\n"
   ]
  },
  {
   "cell_type": "code",
   "execution_count": 105,
   "id": "7da52d68",
   "metadata": {},
   "outputs": [
    {
     "data": {
      "text/plain": [
       "[1,\n",
       " 2,\n",
       " 3,\n",
       " 4,\n",
       " 5,\n",
       " 'python',\n",
       " 'pratap',\n",
       " 'pratap',\n",
       " 'Test',\n",
       " 'True',\n",
       " 12.55,\n",
       " 'gun',\n",
       " 45,\n",
       " 56]"
      ]
     },
     "execution_count": 105,
     "metadata": {},
     "output_type": "execute_result"
    }
   ],
   "source": [
    "a.pop()\n",
    "a"
   ]
  },
  {
   "cell_type": "code",
   "execution_count": 106,
   "id": "d5379d90",
   "metadata": {},
   "outputs": [
    {
     "data": {
      "text/plain": [
       "[1,\n",
       " 2,\n",
       " 3,\n",
       " 4,\n",
       " 5,\n",
       " 'python',\n",
       " 'pratap',\n",
       " 'pratap',\n",
       " 'Test',\n",
       " 'True',\n",
       " 12.55,\n",
       " 'gun',\n",
       " 45,\n",
       " 56,\n",
       " 'run',\n",
       " 'gun',\n",
       " 45,\n",
       " 56]"
      ]
     },
     "execution_count": 106,
     "metadata": {},
     "output_type": "execute_result"
    }
   ],
   "source": [
    "a.extend(['run','gun',45,56])\n",
    "a"
   ]
  },
  {
   "cell_type": "code",
   "execution_count": 107,
   "id": "4b6435fe",
   "metadata": {},
   "outputs": [
    {
     "data": {
      "text/plain": [
       "[1,\n",
       " 2,\n",
       " 3,\n",
       " 4,\n",
       " 5,\n",
       " 'python',\n",
       " 'pratap',\n",
       " 'pratap',\n",
       " 'Test',\n",
       " 'True',\n",
       " 12.55,\n",
       " 'gun',\n",
       " 45,\n",
       " 56,\n",
       " 'run',\n",
       " 'gun',\n",
       " 45,\n",
       " 56,\n",
       " 'go']"
      ]
     },
     "execution_count": 107,
     "metadata": {},
     "output_type": "execute_result"
    }
   ],
   "source": [
    "a.append('go')\n",
    "a"
   ]
  },
  {
   "cell_type": "code",
   "execution_count": 108,
   "id": "6cff6428",
   "metadata": {},
   "outputs": [
    {
     "data": {
      "text/plain": [
       "[1,\n",
       " 2,\n",
       " 3,\n",
       " 4,\n",
       " 5,\n",
       " 'python',\n",
       " 'pratap',\n",
       " 'pratap',\n",
       " 'Test',\n",
       " 'True',\n",
       " 12.55,\n",
       " 'gun',\n",
       " 45,\n",
       " 56,\n",
       " 'run',\n",
       " 'gun',\n",
       " 45,\n",
       " 56]"
      ]
     },
     "execution_count": 108,
     "metadata": {},
     "output_type": "execute_result"
    }
   ],
   "source": [
    "a.pop()\n",
    "a"
   ]
  },
  {
   "cell_type": "code",
   "execution_count": 109,
   "id": "a7a3a673",
   "metadata": {},
   "outputs": [
    {
     "data": {
      "text/plain": [
       "[1,\n",
       " 2,\n",
       " 3,\n",
       " 4,\n",
       " 5,\n",
       " 'python',\n",
       " 'pratap',\n",
       " 'pratap',\n",
       " 'Test',\n",
       " 'True',\n",
       " 12.55,\n",
       " 'gun',\n",
       " 45,\n",
       " 56,\n",
       " 'run',\n",
       " 'gun',\n",
       " 45,\n",
       " 56,\n",
       " 'ravi',\n",
       " 'turn',\n",
       " 56]"
      ]
     },
     "execution_count": 109,
     "metadata": {},
     "output_type": "execute_result"
    }
   ],
   "source": [
    "a + ['ravi','turn',56]\n"
   ]
  },
  {
   "cell_type": "code",
   "execution_count": 110,
   "id": "e09627ec",
   "metadata": {},
   "outputs": [
    {
     "data": {
      "text/plain": [
       "[1,\n",
       " 2,\n",
       " 3,\n",
       " 4,\n",
       " 5,\n",
       " 'python',\n",
       " 'pratap',\n",
       " 'pratap',\n",
       " 'pratap',\n",
       " 'Test',\n",
       " 'True',\n",
       " 12.55,\n",
       " 'gun',\n",
       " 45,\n",
       " 56,\n",
       " 'run',\n",
       " 'gun',\n",
       " 45,\n",
       " 56]"
      ]
     },
     "execution_count": 110,
     "metadata": {},
     "output_type": "execute_result"
    }
   ],
   "source": [
    "a.insert(6,\"pratap\")\n",
    "a"
   ]
  },
  {
   "cell_type": "code",
   "execution_count": 111,
   "id": "a65743bb",
   "metadata": {},
   "outputs": [
    {
     "data": {
      "text/plain": [
       "[1,\n",
       " 2,\n",
       " 3,\n",
       " 4,\n",
       " 5,\n",
       " 'python',\n",
       " 'pratap',\n",
       " 'pratap',\n",
       " 'pratap',\n",
       " 'Test',\n",
       " 'True',\n",
       " 12.55,\n",
       " 'gun',\n",
       " 45,\n",
       " 56,\n",
       " 'run',\n",
       " 'gun',\n",
       " 45,\n",
       " 56]"
      ]
     },
     "execution_count": 111,
     "metadata": {},
     "output_type": "execute_result"
    }
   ],
   "source": [
    "a"
   ]
  },
  {
   "cell_type": "code",
   "execution_count": 124,
   "id": "e1920d12",
   "metadata": {},
   "outputs": [
    {
     "data": {
      "text/plain": [
       "[1,\n",
       " 2,\n",
       " 3,\n",
       " 4,\n",
       " 5,\n",
       " 'python',\n",
       " 'pratap',\n",
       " 'pratap',\n",
       " 'pratap',\n",
       " 'Test',\n",
       " 'True',\n",
       " 12.55,\n",
       " 'gun',\n",
       " 'gun']"
      ]
     },
     "execution_count": 124,
     "metadata": {},
     "output_type": "execute_result"
    }
   ],
   "source": [
    "a.remove(45)\n",
    "a"
   ]
  },
  {
   "cell_type": "code",
   "execution_count": 129,
   "id": "f3e9f2d4",
   "metadata": {},
   "outputs": [
    {
     "data": {
      "text/plain": [
       "[1,\n",
       " 2,\n",
       " 3,\n",
       " 4,\n",
       " 5,\n",
       " 45,\n",
       " 'python',\n",
       " 'pratap',\n",
       " 'pratap',\n",
       " 'pratap',\n",
       " 'Test',\n",
       " 'True',\n",
       " 12.55,\n",
       " 'gun',\n",
       " 'gun']"
      ]
     },
     "execution_count": 129,
     "metadata": {},
     "output_type": "execute_result"
    }
   ],
   "source": [
    "a"
   ]
  },
  {
   "cell_type": "code",
   "execution_count": 130,
   "id": "f91ce95b",
   "metadata": {},
   "outputs": [
    {
     "data": {
      "text/plain": [
       "[1,\n",
       " 2,\n",
       " 3,\n",
       " 4,\n",
       " 5,\n",
       " 45,\n",
       " 'python',\n",
       " 'pratap',\n",
       " 'pratap',\n",
       " 'pratap',\n",
       " 'Test',\n",
       " 'True',\n",
       " 12.55,\n",
       " 'gun',\n",
       " 'gun',\n",
       " 'python']"
      ]
     },
     "execution_count": 130,
     "metadata": {},
     "output_type": "execute_result"
    }
   ],
   "source": [
    "a.append('python')\n",
    "a"
   ]
  },
  {
   "cell_type": "code",
   "execution_count": 131,
   "id": "bd91b5ab",
   "metadata": {},
   "outputs": [
    {
     "data": {
      "text/plain": [
       "'python'"
      ]
     },
     "execution_count": 131,
     "metadata": {},
     "output_type": "execute_result"
    }
   ],
   "source": [
    "a.pop()"
   ]
  },
  {
   "cell_type": "code",
   "execution_count": 126,
   "id": "41edf1ac",
   "metadata": {},
   "outputs": [
    {
     "data": {
      "text/plain": [
       "[1,\n",
       " 2,\n",
       " 3,\n",
       " 4,\n",
       " 5,\n",
       " 45,\n",
       " 'python',\n",
       " 'pratap',\n",
       " 'pratap',\n",
       " 'pratap',\n",
       " 'Test',\n",
       " 'True',\n",
       " 12.55,\n",
       " 'gun',\n",
       " 'gun']"
      ]
     },
     "execution_count": 126,
     "metadata": {},
     "output_type": "execute_result"
    }
   ],
   "source": [
    "a.insert(5,45)\n",
    "a"
   ]
  },
  {
   "cell_type": "code",
   "execution_count": 133,
   "id": "2aa201ca",
   "metadata": {},
   "outputs": [
    {
     "data": {
      "text/plain": [
       "5"
      ]
     },
     "execution_count": 133,
     "metadata": {},
     "output_type": "execute_result"
    }
   ],
   "source": [
    "a.index(45)"
   ]
  },
  {
   "cell_type": "code",
   "execution_count": 140,
   "id": "6f0a0659",
   "metadata": {},
   "outputs": [
    {
     "data": {
      "text/plain": [
       "[1,\n",
       " 2,\n",
       " 3,\n",
       " 4,\n",
       " 5,\n",
       " 45,\n",
       " 'python',\n",
       " 'pratap',\n",
       " 'pratap',\n",
       " 'pratap',\n",
       " 'Test',\n",
       " 'True',\n",
       " 12.55,\n",
       " 'gun',\n",
       " 'gun']"
      ]
     },
     "execution_count": 140,
     "metadata": {},
     "output_type": "execute_result"
    }
   ],
   "source": [
    "a.index('pratap')\n",
    "a\n"
   ]
  },
  {
   "cell_type": "code",
   "execution_count": 139,
   "id": "4bd7727d",
   "metadata": {},
   "outputs": [
    {
     "data": {
      "text/plain": [
       "15"
      ]
     },
     "execution_count": 139,
     "metadata": {},
     "output_type": "execute_result"
    }
   ],
   "source": [
    "len(a)"
   ]
  },
  {
   "cell_type": "code",
   "execution_count": 32,
   "id": "98356797",
   "metadata": {},
   "outputs": [
    {
     "data": {
      "text/plain": [
       "[1, 2, 3, 4, 5, 45, 'python', 'Test', 'True', 12.55, 'go', 'python']"
      ]
     },
     "execution_count": 32,
     "metadata": {},
     "output_type": "execute_result"
    }
   ],
   "source": [
    "a.pop(a.index(45,12))\n",
    "a"
   ]
  },
  {
   "cell_type": "code",
   "execution_count": null,
   "id": "ec051807",
   "metadata": {},
   "outputs": [],
   "source": [
    "# dir(list) to know the list function in list which is start without underscore"
   ]
  },
  {
   "cell_type": "code",
   "execution_count": 37,
   "id": "e0150ea7",
   "metadata": {},
   "outputs": [
    {
     "data": {
      "text/plain": [
       "['__add__',\n",
       " '__class__',\n",
       " '__class_getitem__',\n",
       " '__contains__',\n",
       " '__delattr__',\n",
       " '__delitem__',\n",
       " '__dir__',\n",
       " '__doc__',\n",
       " '__eq__',\n",
       " '__format__',\n",
       " '__ge__',\n",
       " '__getattribute__',\n",
       " '__getitem__',\n",
       " '__gt__',\n",
       " '__hash__',\n",
       " '__iadd__',\n",
       " '__imul__',\n",
       " '__init__',\n",
       " '__init_subclass__',\n",
       " '__iter__',\n",
       " '__le__',\n",
       " '__len__',\n",
       " '__lt__',\n",
       " '__mul__',\n",
       " '__ne__',\n",
       " '__new__',\n",
       " '__reduce__',\n",
       " '__reduce_ex__',\n",
       " '__repr__',\n",
       " '__reversed__',\n",
       " '__rmul__',\n",
       " '__setattr__',\n",
       " '__setitem__',\n",
       " '__sizeof__',\n",
       " '__str__',\n",
       " '__subclasshook__',\n",
       " 'append',\n",
       " 'clear',\n",
       " 'copy',\n",
       " 'count',\n",
       " 'extend',\n",
       " 'index',\n",
       " 'insert',\n",
       " 'pop',\n",
       " 'remove',\n",
       " 'reverse',\n",
       " 'sort']"
      ]
     },
     "execution_count": 37,
     "metadata": {},
     "output_type": "execute_result"
    }
   ],
   "source": [
    "dir(list)"
   ]
  },
  {
   "cell_type": "code",
   "execution_count": 39,
   "id": "e0c0a627",
   "metadata": {},
   "outputs": [
    {
     "data": {
      "text/plain": [
       "[1, 2, 3, 4, 5, 45, 'python', 'Test', 'True', 12.55, 'go', 'python', 45]"
      ]
     },
     "execution_count": 39,
     "metadata": {},
     "output_type": "execute_result"
    }
   ],
   "source": [
    "# shift + tab to know documentation of function\n",
    "a.append(45)\n",
    "a"
   ]
  },
  {
   "cell_type": "code",
   "execution_count": 41,
   "id": "f5777ee5",
   "metadata": {},
   "outputs": [
    {
     "data": {
      "text/plain": [
       "[1,\n",
       " 2,\n",
       " 3,\n",
       " 4,\n",
       " 5,\n",
       " 45,\n",
       " 'python',\n",
       " 'Test',\n",
       " 'True',\n",
       " 12.55,\n",
       " 'go',\n",
       " 'python',\n",
       " 45,\n",
       " 2,\n",
       " 4,\n",
       " 8]"
      ]
     },
     "execution_count": 41,
     "metadata": {},
     "output_type": "execute_result"
    }
   ],
   "source": [
    "a.extend([2,4,8])\n",
    "a\n"
   ]
  },
  {
   "cell_type": "code",
   "execution_count": 45,
   "id": "bcd071c5",
   "metadata": {},
   "outputs": [
    {
     "data": {
      "text/plain": [
       "1"
      ]
     },
     "execution_count": 45,
     "metadata": {},
     "output_type": "execute_result"
    }
   ],
   "source": [
    "a.count(8)"
   ]
  },
  {
   "cell_type": "code",
   "execution_count": 46,
   "id": "fb8e5dff",
   "metadata": {},
   "outputs": [
    {
     "data": {
      "text/plain": [
       "[8,\n",
       " 4,\n",
       " 2,\n",
       " 45,\n",
       " 'python',\n",
       " 'go',\n",
       " 12.55,\n",
       " 'True',\n",
       " 'Test',\n",
       " 'python',\n",
       " 45,\n",
       " 5,\n",
       " 4,\n",
       " 3,\n",
       " 2,\n",
       " 1]"
      ]
     },
     "execution_count": 46,
     "metadata": {},
     "output_type": "execute_result"
    }
   ],
   "source": [
    "a.reverse()\n",
    "a"
   ]
  },
  {
   "cell_type": "code",
   "execution_count": 47,
   "id": "26149582",
   "metadata": {},
   "outputs": [
    {
     "data": {
      "text/plain": [
       "[1, 3, 5, 11, 9, 7]"
      ]
     },
     "execution_count": 47,
     "metadata": {},
     "output_type": "execute_result"
    }
   ],
   "source": [
    "b = [1,3,5,11,9,7]\n",
    "b"
   ]
  },
  {
   "cell_type": "code",
   "execution_count": 48,
   "id": "91f5cd6e",
   "metadata": {},
   "outputs": [
    {
     "data": {
      "text/plain": [
       "[1, 3, 5, 7, 9, 11]"
      ]
     },
     "execution_count": 48,
     "metadata": {},
     "output_type": "execute_result"
    }
   ],
   "source": [
    "b.sort()\n",
    "b"
   ]
  },
  {
   "cell_type": "code",
   "execution_count": 49,
   "id": "56b06a28",
   "metadata": {},
   "outputs": [
    {
     "data": {
      "text/plain": [
       "[11, 9, 7, 5, 3, 1]"
      ]
     },
     "execution_count": 49,
     "metadata": {},
     "output_type": "execute_result"
    }
   ],
   "source": [
    "b.sort(reverse = True)\n",
    "\n",
    "b"
   ]
  },
  {
   "cell_type": "markdown",
   "id": "09662a89",
   "metadata": {},
   "source": [
    "#  copy \n",
    "### deep copy & shallow copy\n",
    "\n"
   ]
  },
  {
   "cell_type": "code",
   "execution_count": 52,
   "id": "3c12d776",
   "metadata": {},
   "outputs": [
    {
     "data": {
      "text/plain": [
       "[8,\n",
       " 4,\n",
       " 2,\n",
       " 45,\n",
       " 'python',\n",
       " 'go',\n",
       " 12.55,\n",
       " 'True',\n",
       " 'Test',\n",
       " 'python',\n",
       " 45,\n",
       " 5,\n",
       " 4,\n",
       " 3,\n",
       " 2,\n",
       " 1]"
      ]
     },
     "execution_count": 52,
     "metadata": {},
     "output_type": "execute_result"
    }
   ],
   "source": [
    "# shallow copy # value is assign to c = a if in c list value will update than in it will update in - a value also\n",
    "c = a\n",
    "c"
   ]
  },
  {
   "cell_type": "code",
   "execution_count": 54,
   "id": "13dbd90d",
   "metadata": {},
   "outputs": [
    {
     "data": {
      "text/plain": [
       "[8, 4, 2, 45, 'go', 12.55, 'True', 'Test', 45, 5, 4, 3, 2, 1]"
      ]
     },
     "execution_count": 54,
     "metadata": {},
     "output_type": "execute_result"
    }
   ],
   "source": [
    "c.remove('python')\n",
    "c"
   ]
  },
  {
   "cell_type": "code",
   "execution_count": 55,
   "id": "a3a65557",
   "metadata": {},
   "outputs": [
    {
     "name": "stdout",
     "output_type": "stream",
     "text": [
      "[8, 4, 2, 45, 'go', 12.55, 'True', 'Test', 45, 5, 4, 3, 2, 1]\n"
     ]
    }
   ],
   "source": [
    "print(a)"
   ]
  },
  {
   "cell_type": "code",
   "execution_count": 56,
   "id": "22549311",
   "metadata": {},
   "outputs": [
    {
     "data": {
      "text/plain": [
       "[8, 4, 2, 45, 'go', 12.55, 'True', 'Test', 45, 5, 4, 3, 2, 1]"
      ]
     },
     "execution_count": 56,
     "metadata": {},
     "output_type": "execute_result"
    }
   ],
   "source": [
    "a"
   ]
  },
  {
   "cell_type": "code",
   "execution_count": null,
   "id": "0b05e38b",
   "metadata": {},
   "outputs": [],
   "source": [
    "# deep copy\n",
    "# in copy value will remain in original copy it wil change in only duplicate value"
   ]
  },
  {
   "cell_type": "code",
   "execution_count": 57,
   "id": "4835f5b3",
   "metadata": {},
   "outputs": [
    {
     "data": {
      "text/plain": [
       "[8, 4, 2, 45, 'go', 12.55, 'True', 'Test', 45, 5, 4, 3, 2, 1]"
      ]
     },
     "execution_count": 57,
     "metadata": {},
     "output_type": "execute_result"
    }
   ],
   "source": [
    "d = a.copy()\n",
    "d"
   ]
  },
  {
   "cell_type": "code",
   "execution_count": 58,
   "id": "ee61a6c0",
   "metadata": {},
   "outputs": [
    {
     "data": {
      "text/plain": [
       "[8, 4, 2, 45, 'go', 12.55, 'True', 'Test', 45, 5, 4, 3, 2]"
      ]
     },
     "execution_count": 58,
     "metadata": {},
     "output_type": "execute_result"
    }
   ],
   "source": [
    "d.pop()\n",
    "d"
   ]
  },
  {
   "cell_type": "code",
   "execution_count": 59,
   "id": "0f71ff0a",
   "metadata": {},
   "outputs": [
    {
     "data": {
      "text/plain": [
       "[8, 4, 2, 45, 'go', 12.55, 'True', 'Test', 45, 5, 4, 3, 2, 1]"
      ]
     },
     "execution_count": 59,
     "metadata": {},
     "output_type": "execute_result"
    }
   ],
   "source": [
    "a"
   ]
  },
  {
   "cell_type": "code",
   "execution_count": 60,
   "id": "cac93070",
   "metadata": {},
   "outputs": [
    {
     "data": {
      "text/plain": [
       "[]"
      ]
     },
     "execution_count": 60,
     "metadata": {},
     "output_type": "execute_result"
    }
   ],
   "source": [
    "a.clear()\n",
    "a"
   ]
  },
  {
   "cell_type": "code",
   "execution_count": 61,
   "id": "442039ad",
   "metadata": {},
   "outputs": [],
   "source": [
    "del a"
   ]
  },
  {
   "cell_type": "code",
   "execution_count": 62,
   "id": "d2c9cf10",
   "metadata": {},
   "outputs": [
    {
     "ename": "NameError",
     "evalue": "name 'a' is not defined",
     "output_type": "error",
     "traceback": [
      "\u001b[1;31m---------------------------------------------------------------------------\u001b[0m",
      "\u001b[1;31mNameError\u001b[0m                                 Traceback (most recent call last)",
      "Cell \u001b[1;32mIn[62], line 1\u001b[0m\n\u001b[1;32m----> 1\u001b[0m \u001b[43ma\u001b[49m\n",
      "\u001b[1;31mNameError\u001b[0m: name 'a' is not defined"
     ]
    }
   ],
   "source": [
    "a"
   ]
  },
  {
   "cell_type": "markdown",
   "id": "9976fb9d",
   "metadata": {},
   "source": [
    "# Tuple () Brackets  & Paranthesis\n",
    " 1.ordered in nature\n",
    " 2.list accept all data type(hetrogeneous)\n",
    " 3.Allows duplicates\n",
    " 4.immutable(not changeable)"
   ]
  },
  {
   "cell_type": "markdown",
   "id": "3ce910d5",
   "metadata": {},
   "source": []
  },
  {
   "cell_type": "code",
   "execution_count": 141,
   "id": "41e2e9d4",
   "metadata": {},
   "outputs": [
    {
     "data": {
      "text/plain": [
       "(1, 2, 3, 4, 5, 'python', 'Test', False, 12.55)"
      ]
     },
     "execution_count": 141,
     "metadata": {},
     "output_type": "execute_result"
    }
   ],
   "source": [
    "a = 1,2,3,4,5,'python','Test',False,12.55 # python take default to tuple\n",
    "a"
   ]
  },
  {
   "cell_type": "code",
   "execution_count": 142,
   "id": "3f89941c",
   "metadata": {},
   "outputs": [
    {
     "data": {
      "text/plain": [
       "tuple"
      ]
     },
     "execution_count": 142,
     "metadata": {},
     "output_type": "execute_result"
    }
   ],
   "source": [
    "type(a)"
   ]
  },
  {
   "cell_type": "code",
   "execution_count": 143,
   "id": "92887f3b",
   "metadata": {},
   "outputs": [
    {
     "data": {
      "text/plain": [
       "9"
      ]
     },
     "execution_count": 143,
     "metadata": {},
     "output_type": "execute_result"
    }
   ],
   "source": [
    "len(a)"
   ]
  },
  {
   "cell_type": "code",
   "execution_count": 144,
   "id": "14336a38",
   "metadata": {},
   "outputs": [
    {
     "data": {
      "text/plain": [
       "['__add__',\n",
       " '__class__',\n",
       " '__class_getitem__',\n",
       " '__contains__',\n",
       " '__delattr__',\n",
       " '__dir__',\n",
       " '__doc__',\n",
       " '__eq__',\n",
       " '__format__',\n",
       " '__ge__',\n",
       " '__getattribute__',\n",
       " '__getitem__',\n",
       " '__getnewargs__',\n",
       " '__gt__',\n",
       " '__hash__',\n",
       " '__init__',\n",
       " '__init_subclass__',\n",
       " '__iter__',\n",
       " '__le__',\n",
       " '__len__',\n",
       " '__lt__',\n",
       " '__mul__',\n",
       " '__ne__',\n",
       " '__new__',\n",
       " '__reduce__',\n",
       " '__reduce_ex__',\n",
       " '__repr__',\n",
       " '__rmul__',\n",
       " '__setattr__',\n",
       " '__sizeof__',\n",
       " '__str__',\n",
       " '__subclasshook__',\n",
       " 'count',\n",
       " 'index']"
      ]
     },
     "execution_count": 144,
     "metadata": {},
     "output_type": "execute_result"
    }
   ],
   "source": [
    "dir(tuple)"
   ]
  },
  {
   "cell_type": "code",
   "execution_count": 145,
   "id": "f3e867cd",
   "metadata": {},
   "outputs": [
    {
     "data": {
      "text/plain": [
       "1"
      ]
     },
     "execution_count": 145,
     "metadata": {},
     "output_type": "execute_result"
    }
   ],
   "source": [
    "a.count(1)\n"
   ]
  },
  {
   "cell_type": "code",
   "execution_count": 146,
   "id": "2dbf9ed8",
   "metadata": {},
   "outputs": [
    {
     "data": {
      "text/plain": [
       "4"
      ]
     },
     "execution_count": 146,
     "metadata": {},
     "output_type": "execute_result"
    }
   ],
   "source": [
    "a.index(5)"
   ]
  },
  {
   "cell_type": "code",
   "execution_count": 149,
   "id": "e63d4626",
   "metadata": {},
   "outputs": [
    {
     "data": {
      "text/plain": [
       "(1, 2, 3, 4, 5)"
      ]
     },
     "execution_count": 149,
     "metadata": {},
     "output_type": "execute_result"
    }
   ],
   "source": [
    "t = tuple([1,2,3,4,5])\n",
    "t"
   ]
  },
  {
   "cell_type": "code",
   "execution_count": 151,
   "id": "27bffe72",
   "metadata": {},
   "outputs": [
    {
     "data": {
      "text/plain": [
       "tuple"
      ]
     },
     "execution_count": 151,
     "metadata": {},
     "output_type": "execute_result"
    }
   ],
   "source": [
    "type (t)"
   ]
  },
  {
   "cell_type": "code",
   "execution_count": 79,
   "id": "61e220d2",
   "metadata": {},
   "outputs": [
    {
     "data": {
      "text/plain": [
       "(2, 4, 6, 8, 10, 12, 14, 16, 18, 20)"
      ]
     },
     "execution_count": 79,
     "metadata": {},
     "output_type": "execute_result"
    }
   ],
   "source": [
    "tuple(range(2,21,2))"
   ]
  },
  {
   "cell_type": "code",
   "execution_count": 80,
   "id": "f67f0f29",
   "metadata": {},
   "outputs": [
    {
     "data": {
      "text/plain": [
       "3"
      ]
     },
     "execution_count": 80,
     "metadata": {},
     "output_type": "execute_result"
    }
   ],
   "source": [
    "t[2]"
   ]
  },
  {
   "cell_type": "code",
   "execution_count": 81,
   "id": "578776db",
   "metadata": {},
   "outputs": [
    {
     "data": {
      "text/plain": [
       "5"
      ]
     },
     "execution_count": 81,
     "metadata": {},
     "output_type": "execute_result"
    }
   ],
   "source": [
    "t[-1]"
   ]
  },
  {
   "cell_type": "markdown",
   "id": "a285205e",
   "metadata": {},
   "source": [
    "# Dicitionaries {key : value}\n",
    " 1.unordered in nature\n",
    " 2.list accept all data type(hetrogeneous)\n",
    " 3.Override duplicates\n",
    " 4.mutable(changeable)"
   ]
  },
  {
   "cell_type": "code",
   "execution_count": 152,
   "id": "501413ef",
   "metadata": {},
   "outputs": [
    {
     "data": {
      "text/plain": [
       "{'subject': 'python', 'attendance': 105, True: 2.33, 'robin': 24}"
      ]
     },
     "execution_count": 152,
     "metadata": {},
     "output_type": "execute_result"
    }
   ],
   "source": [
    "d = {'subject':'python','attendance':100,True:10,  1 : 2.33,   'attendance':105,'robin':24 }\n",
    "d\n",
    "\n",
    "\n"
   ]
  },
  {
   "cell_type": "code",
   "execution_count": 153,
   "id": "ce289ed8",
   "metadata": {},
   "outputs": [
    {
     "data": {
      "text/plain": [
       "{'subject': 'java', 'attendance': 105, True: 2.33, 'robin': 24}"
      ]
     },
     "execution_count": 153,
     "metadata": {},
     "output_type": "execute_result"
    }
   ],
   "source": [
    "d['subject'] ='java'\n",
    "d"
   ]
  },
  {
   "cell_type": "code",
   "execution_count": 85,
   "id": "b27055ae",
   "metadata": {},
   "outputs": [
    {
     "data": {
      "text/plain": [
       "['__class__',\n",
       " '__class_getitem__',\n",
       " '__contains__',\n",
       " '__delattr__',\n",
       " '__delitem__',\n",
       " '__dir__',\n",
       " '__doc__',\n",
       " '__eq__',\n",
       " '__format__',\n",
       " '__ge__',\n",
       " '__getattribute__',\n",
       " '__getitem__',\n",
       " '__gt__',\n",
       " '__hash__',\n",
       " '__init__',\n",
       " '__init_subclass__',\n",
       " '__ior__',\n",
       " '__iter__',\n",
       " '__le__',\n",
       " '__len__',\n",
       " '__lt__',\n",
       " '__ne__',\n",
       " '__new__',\n",
       " '__or__',\n",
       " '__reduce__',\n",
       " '__reduce_ex__',\n",
       " '__repr__',\n",
       " '__reversed__',\n",
       " '__ror__',\n",
       " '__setattr__',\n",
       " '__setitem__',\n",
       " '__sizeof__',\n",
       " '__str__',\n",
       " '__subclasshook__',\n",
       " 'clear',\n",
       " 'copy',\n",
       " 'fromkeys',\n",
       " 'get',\n",
       " 'items',\n",
       " 'keys',\n",
       " 'pop',\n",
       " 'popitem',\n",
       " 'setdefault',\n",
       " 'update',\n",
       " 'values']"
      ]
     },
     "execution_count": 85,
     "metadata": {},
     "output_type": "execute_result"
    }
   ],
   "source": [
    "dir(dict)"
   ]
  },
  {
   "cell_type": "code",
   "execution_count": 86,
   "id": "11e491ba",
   "metadata": {},
   "outputs": [
    {
     "data": {
      "text/plain": [
       "dict"
      ]
     },
     "execution_count": 86,
     "metadata": {},
     "output_type": "execute_result"
    }
   ],
   "source": [
    "type(d)"
   ]
  },
  {
   "cell_type": "code",
   "execution_count": 100,
   "id": "a41c0e5c",
   "metadata": {},
   "outputs": [
    {
     "data": {
      "text/plain": [
       "4"
      ]
     },
     "execution_count": 100,
     "metadata": {},
     "output_type": "execute_result"
    }
   ],
   "source": [
    "len(d)"
   ]
  },
  {
   "cell_type": "code",
   "execution_count": 103,
   "id": "0516c471",
   "metadata": {},
   "outputs": [
    {
     "data": {
      "text/plain": [
       "[[1, 2], ['python', 56]]"
      ]
     },
     "execution_count": 103,
     "metadata": {},
     "output_type": "execute_result"
    }
   ],
   "source": [
    "d1 = [[1,2],['python',56]]\n",
    "d1"
   ]
  },
  {
   "cell_type": "code",
   "execution_count": 104,
   "id": "1a285b9b",
   "metadata": {},
   "outputs": [
    {
     "data": {
      "text/plain": [
       "{1: 2, 'python': 56}"
      ]
     },
     "execution_count": 104,
     "metadata": {},
     "output_type": "execute_result"
    }
   ],
   "source": [
    "td = dict(d1)\n",
    "td"
   ]
  },
  {
   "cell_type": "code",
   "execution_count": 105,
   "id": "1ebb4920",
   "metadata": {},
   "outputs": [
    {
     "data": {
      "text/plain": [
       "dict_keys(['subject', 'attendance', True, 'robin'])"
      ]
     },
     "execution_count": 105,
     "metadata": {},
     "output_type": "execute_result"
    }
   ],
   "source": [
    "# methods in dict\n",
    "d.keys()"
   ]
  },
  {
   "cell_type": "code",
   "execution_count": 107,
   "id": "048b93d8",
   "metadata": {},
   "outputs": [
    {
     "data": {
      "text/plain": [
       "dict_values(['java', 105, 2.33, 24])"
      ]
     },
     "execution_count": 107,
     "metadata": {},
     "output_type": "execute_result"
    }
   ],
   "source": [
    "d.values()"
   ]
  },
  {
   "cell_type": "code",
   "execution_count": 108,
   "id": "b4794443",
   "metadata": {},
   "outputs": [
    {
     "data": {
      "text/plain": [
       "dict_items([('subject', 'java'), ('attendance', 105), (True, 2.33), ('robin', 24)])"
      ]
     },
     "execution_count": 108,
     "metadata": {},
     "output_type": "execute_result"
    }
   ],
   "source": [
    "d.items()"
   ]
  },
  {
   "cell_type": "code",
   "execution_count": 109,
   "id": "2562e7ec",
   "metadata": {},
   "outputs": [
    {
     "data": {
      "text/plain": [
       "'java'"
      ]
     },
     "execution_count": 109,
     "metadata": {},
     "output_type": "execute_result"
    }
   ],
   "source": [
    "d.get('subject')"
   ]
  },
  {
   "cell_type": "markdown",
   "id": "e0d98e8d",
   "metadata": {},
   "source": [
    " # 3 Module in Python  \n",
    " \n",
    " # sets -  { }\n",
    " \n",
    " 1.unordered in nature\n",
    " 2.does not allows boolean (hetrogeneous)\n",
    " 3.Override duplicates\n",
    " 4.mutable(changeable)\n",
    " \n"
   ]
  },
  {
   "cell_type": "code",
   "execution_count": 154,
   "id": "5e081198",
   "metadata": {},
   "outputs": [
    {
     "data": {
      "text/plain": [
       "{1, 12.5, 2, 3, 4, 5, 'java ', 'python'}"
      ]
     },
     "execution_count": 154,
     "metadata": {},
     "output_type": "execute_result"
    }
   ],
   "source": [
    "a = {1,1,2,3,4,5,\"python\",True,12.5,\"java \"}\n",
    "a"
   ]
  },
  {
   "cell_type": "code",
   "execution_count": 2,
   "id": "cb077b10",
   "metadata": {},
   "outputs": [
    {
     "data": {
      "text/plain": [
       "set"
      ]
     },
     "execution_count": 2,
     "metadata": {},
     "output_type": "execute_result"
    }
   ],
   "source": [
    "type(a)"
   ]
  },
  {
   "cell_type": "code",
   "execution_count": 3,
   "id": "3f5dfcb3",
   "metadata": {},
   "outputs": [
    {
     "data": {
      "text/plain": [
       "8"
      ]
     },
     "execution_count": 3,
     "metadata": {},
     "output_type": "execute_result"
    }
   ],
   "source": [
    "len(a)"
   ]
  },
  {
   "cell_type": "code",
   "execution_count": 4,
   "id": "9bbac8a0",
   "metadata": {},
   "outputs": [
    {
     "data": {
      "text/plain": [
       "['__and__',\n",
       " '__class__',\n",
       " '__class_getitem__',\n",
       " '__contains__',\n",
       " '__delattr__',\n",
       " '__dir__',\n",
       " '__doc__',\n",
       " '__eq__',\n",
       " '__format__',\n",
       " '__ge__',\n",
       " '__getattribute__',\n",
       " '__gt__',\n",
       " '__hash__',\n",
       " '__iand__',\n",
       " '__init__',\n",
       " '__init_subclass__',\n",
       " '__ior__',\n",
       " '__isub__',\n",
       " '__iter__',\n",
       " '__ixor__',\n",
       " '__le__',\n",
       " '__len__',\n",
       " '__lt__',\n",
       " '__ne__',\n",
       " '__new__',\n",
       " '__or__',\n",
       " '__rand__',\n",
       " '__reduce__',\n",
       " '__reduce_ex__',\n",
       " '__repr__',\n",
       " '__ror__',\n",
       " '__rsub__',\n",
       " '__rxor__',\n",
       " '__setattr__',\n",
       " '__sizeof__',\n",
       " '__str__',\n",
       " '__sub__',\n",
       " '__subclasshook__',\n",
       " '__xor__',\n",
       " 'add',\n",
       " 'clear',\n",
       " 'copy',\n",
       " 'difference',\n",
       " 'difference_update',\n",
       " 'discard',\n",
       " 'intersection',\n",
       " 'intersection_update',\n",
       " 'isdisjoint',\n",
       " 'issubset',\n",
       " 'issuperset',\n",
       " 'pop',\n",
       " 'remove',\n",
       " 'symmetric_difference',\n",
       " 'symmetric_difference_update',\n",
       " 'union',\n",
       " 'update']"
      ]
     },
     "execution_count": 4,
     "metadata": {},
     "output_type": "execute_result"
    }
   ],
   "source": [
    "dir(a)"
   ]
  },
  {
   "cell_type": "code",
   "execution_count": 155,
   "id": "6054c5a8",
   "metadata": {},
   "outputs": [
    {
     "data": {
      "text/plain": [
       "{1, 12.5, 2, 3, 4, 5, 'SQL', 'java ', 'python'}"
      ]
     },
     "execution_count": 155,
     "metadata": {},
     "output_type": "execute_result"
    }
   ],
   "source": [
    "a.add(\"SQL\")\n",
    "a"
   ]
  },
  {
   "cell_type": "code",
   "execution_count": 9,
   "id": "aff4853b",
   "metadata": {},
   "outputs": [
    {
     "data": {
      "text/plain": [
       "['f', 'a', 'n', 't', 'a', 's', 'y']"
      ]
     },
     "execution_count": 9,
     "metadata": {},
     "output_type": "execute_result"
    }
   ],
   "source": [
    "l = list(\"fantasy\")\n",
    "l"
   ]
  },
  {
   "cell_type": "code",
   "execution_count": 13,
   "id": "628681e3",
   "metadata": {},
   "outputs": [
    {
     "data": {
      "text/plain": [
       "{'a', 'f', 'n', 's', 't', 'y'}"
      ]
     },
     "execution_count": 13,
     "metadata": {},
     "output_type": "execute_result"
    }
   ],
   "source": [
    "set(l)"
   ]
  },
  {
   "cell_type": "code",
   "execution_count": 156,
   "id": "50db2d50",
   "metadata": {},
   "outputs": [
    {
     "data": {
      "text/plain": [
       "{1, 12.5, 2, 3, 4, 5, 'SQL', 'gun', 'java ', 'python'}"
      ]
     },
     "execution_count": 156,
     "metadata": {},
     "output_type": "execute_result"
    }
   ],
   "source": [
    "a.add('gun')\n",
    "a"
   ]
  },
  {
   "cell_type": "code",
   "execution_count": 157,
   "id": "51269709",
   "metadata": {},
   "outputs": [
    {
     "data": {
      "text/plain": [
       "{1, 12.5, 2, 3, 4, 5, 8, 9, 'SQL', 'gun', 'hamer', 'java ', 'python'}"
      ]
     },
     "execution_count": 157,
     "metadata": {},
     "output_type": "execute_result"
    }
   ],
   "source": [
    "a.update({8,9,\"hamer\"})\n",
    "a"
   ]
  },
  {
   "cell_type": "code",
   "execution_count": 161,
   "id": "51a3a8f0",
   "metadata": {},
   "outputs": [
    {
     "data": {
      "text/plain": [
       "{12.5, 5, 8, 9, 'SQL', 'gun', 'hamer', 'java ', 'python'}"
      ]
     },
     "execution_count": 161,
     "metadata": {},
     "output_type": "execute_result"
    }
   ],
   "source": [
    "a.pop()\n",
    "a"
   ]
  },
  {
   "cell_type": "code",
   "execution_count": 25,
   "id": "36b6a3f4",
   "metadata": {},
   "outputs": [
    {
     "ename": "KeyError",
     "evalue": "'SQL'",
     "output_type": "error",
     "traceback": [
      "\u001b[1;31m---------------------------------------------------------------------------\u001b[0m",
      "\u001b[1;31mKeyError\u001b[0m                                  Traceback (most recent call last)",
      "Cell \u001b[1;32mIn[25], line 1\u001b[0m\n\u001b[1;32m----> 1\u001b[0m \u001b[43ma\u001b[49m\u001b[38;5;241;43m.\u001b[39;49m\u001b[43mremove\u001b[49m\u001b[43m(\u001b[49m\u001b[38;5;124;43m\"\u001b[39;49m\u001b[38;5;124;43mSQL\u001b[39;49m\u001b[38;5;124;43m\"\u001b[39;49m\u001b[43m)\u001b[49m\n\u001b[0;32m      2\u001b[0m a\n",
      "\u001b[1;31mKeyError\u001b[0m: 'SQL'"
     ]
    }
   ],
   "source": [
    "a.remove(\"SQL\")\n",
    "a"
   ]
  },
  {
   "cell_type": "code",
   "execution_count": 166,
   "id": "baec2de1",
   "metadata": {},
   "outputs": [
    {
     "data": {
      "text/plain": [
       "{12.5, 8, 9, 'hamer', 'java ', 'python'}"
      ]
     },
     "execution_count": 166,
     "metadata": {},
     "output_type": "execute_result"
    }
   ],
   "source": [
    "a"
   ]
  },
  {
   "cell_type": "code",
   "execution_count": 167,
   "id": "029d0741",
   "metadata": {},
   "outputs": [
    {
     "data": {
      "text/plain": [
       "{12.5, 9, 'hamer', 'java ', 'python'}"
      ]
     },
     "execution_count": 167,
     "metadata": {},
     "output_type": "execute_result"
    }
   ],
   "source": [
    "a.pop()\n",
    "a"
   ]
  },
  {
   "cell_type": "code",
   "execution_count": 29,
   "id": "5331efc9",
   "metadata": {},
   "outputs": [
    {
     "data": {
      "text/plain": [
       "{12.5, 8, 9, 'hamer', 'python'}"
      ]
     },
     "execution_count": 29,
     "metadata": {},
     "output_type": "execute_result"
    }
   ],
   "source": [
    "a.remove('gun')\n",
    "a"
   ]
  },
  {
   "cell_type": "code",
   "execution_count": 169,
   "id": "0095243a",
   "metadata": {},
   "outputs": [
    {
     "data": {
      "text/plain": [
       "{12.5, 9, 'hamer', 'java ', 'python'}"
      ]
     },
     "execution_count": 169,
     "metadata": {},
     "output_type": "execute_result"
    }
   ],
   "source": [
    "a.discard('gun')\n",
    "a"
   ]
  },
  {
   "cell_type": "code",
   "execution_count": 31,
   "id": "b370a37a",
   "metadata": {},
   "outputs": [
    {
     "name": "stdout",
     "output_type": "stream",
     "text": [
      "{1, 2, 3, 4, 5} {5, 6, 7, 8, 9}\n"
     ]
    }
   ],
   "source": [
    "s1 = {1,2,3,4,5}\n",
    "s2 = {6,5,7,8,9}\n",
    "print(s1,s2)"
   ]
  },
  {
   "cell_type": "code",
   "execution_count": 32,
   "id": "e7e86782",
   "metadata": {},
   "outputs": [
    {
     "data": {
      "text/plain": [
       "{1, 2, 3, 4, 5, 6, 7, 8, 9}"
      ]
     },
     "execution_count": 32,
     "metadata": {},
     "output_type": "execute_result"
    }
   ],
   "source": [
    "s1.union(s2)\n"
   ]
  },
  {
   "cell_type": "code",
   "execution_count": 33,
   "id": "745d3589",
   "metadata": {},
   "outputs": [
    {
     "data": {
      "text/plain": [
       "{5}"
      ]
     },
     "execution_count": 33,
     "metadata": {},
     "output_type": "execute_result"
    }
   ],
   "source": [
    "s1.intersection(s2)"
   ]
  },
  {
   "cell_type": "code",
   "execution_count": 35,
   "id": "73d25f98",
   "metadata": {},
   "outputs": [
    {
     "data": {
      "text/plain": [
       "{1, 2, 3, 4}"
      ]
     },
     "execution_count": 35,
     "metadata": {},
     "output_type": "execute_result"
    }
   ],
   "source": [
    "s1.difference(s2)"
   ]
  },
  {
   "cell_type": "code",
   "execution_count": 36,
   "id": "753f0c0a",
   "metadata": {},
   "outputs": [
    {
     "data": {
      "text/plain": [
       "{6, 7, 8, 9}"
      ]
     },
     "execution_count": 36,
     "metadata": {},
     "output_type": "execute_result"
    }
   ],
   "source": [
    "s2.difference(s1)"
   ]
  },
  {
   "cell_type": "code",
   "execution_count": 37,
   "id": "3f83870a",
   "metadata": {},
   "outputs": [
    {
     "data": {
      "text/plain": [
       "{1, 2, 3, 4, 6, 7, 8, 9}"
      ]
     },
     "execution_count": 37,
     "metadata": {},
     "output_type": "execute_result"
    }
   ],
   "source": [
    "s1.symmetric_difference(s2)"
   ]
  },
  {
   "cell_type": "code",
   "execution_count": 38,
   "id": "ad9c7d5f",
   "metadata": {},
   "outputs": [
    {
     "data": {
      "text/plain": [
       "['__and__',\n",
       " '__class__',\n",
       " '__class_getitem__',\n",
       " '__contains__',\n",
       " '__delattr__',\n",
       " '__dir__',\n",
       " '__doc__',\n",
       " '__eq__',\n",
       " '__format__',\n",
       " '__ge__',\n",
       " '__getattribute__',\n",
       " '__gt__',\n",
       " '__hash__',\n",
       " '__iand__',\n",
       " '__init__',\n",
       " '__init_subclass__',\n",
       " '__ior__',\n",
       " '__isub__',\n",
       " '__iter__',\n",
       " '__ixor__',\n",
       " '__le__',\n",
       " '__len__',\n",
       " '__lt__',\n",
       " '__ne__',\n",
       " '__new__',\n",
       " '__or__',\n",
       " '__rand__',\n",
       " '__reduce__',\n",
       " '__reduce_ex__',\n",
       " '__repr__',\n",
       " '__ror__',\n",
       " '__rsub__',\n",
       " '__rxor__',\n",
       " '__setattr__',\n",
       " '__sizeof__',\n",
       " '__str__',\n",
       " '__sub__',\n",
       " '__subclasshook__',\n",
       " '__xor__',\n",
       " 'add',\n",
       " 'clear',\n",
       " 'copy',\n",
       " 'difference',\n",
       " 'difference_update',\n",
       " 'discard',\n",
       " 'intersection',\n",
       " 'intersection_update',\n",
       " 'isdisjoint',\n",
       " 'issubset',\n",
       " 'issuperset',\n",
       " 'pop',\n",
       " 'remove',\n",
       " 'symmetric_difference',\n",
       " 'symmetric_difference_update',\n",
       " 'union',\n",
       " 'update']"
      ]
     },
     "execution_count": 38,
     "metadata": {},
     "output_type": "execute_result"
    }
   ],
   "source": [
    "dir(set)"
   ]
  },
  {
   "cell_type": "markdown",
   "id": "174f9bf0",
   "metadata": {},
   "source": [
    "# input and output with format"
   ]
  },
  {
   "cell_type": "code",
   "execution_count": null,
   "id": "1f0f5f2e",
   "metadata": {},
   "outputs": [],
   "source": []
  },
  {
   "cell_type": "code",
   "execution_count": 4,
   "id": "b6eaa80f",
   "metadata": {},
   "outputs": [
    {
     "name": "stdout",
     "output_type": "stream",
     "text": [
      "what is your name: Pratap Kumar Jaiswal\n",
      "what is your age: 22\n",
      "what is your sal: 30000\n"
     ]
    }
   ],
   "source": [
    "name = input (\"what is your name: \")\n",
    "age = input(\"what is your age: \")\n",
    "sal  = input('what is your sal: ')\n"
   ]
  },
  {
   "cell_type": "code",
   "execution_count": 5,
   "id": "ebebbfc0",
   "metadata": {},
   "outputs": [
    {
     "name": "stdout",
     "output_type": "stream",
     "text": [
      "Pratap Kumar Jaiswal 22 30000\n"
     ]
    }
   ],
   "source": [
    "print(name,age,sal)"
   ]
  },
  {
   "cell_type": "code",
   "execution_count": 13,
   "id": "9de3594f",
   "metadata": {},
   "outputs": [
    {
     "data": {
      "text/plain": [
       "(str, str, str)"
      ]
     },
     "execution_count": 13,
     "metadata": {},
     "output_type": "execute_result"
    }
   ],
   "source": [
    "type(name),type(age),type(sal) # Default always input will take as string valve"
   ]
  },
  {
   "cell_type": "code",
   "execution_count": 14,
   "id": "c743e787",
   "metadata": {},
   "outputs": [
    {
     "name": "stdout",
     "output_type": "stream",
     "text": [
      "what is your name: pratap\n",
      "what is your age: 23\n",
      "what is your sal: 34\n"
     ]
    }
   ],
   "source": [
    "name = input (\"what is your name: \")\n",
    "age = int(input(\"what is your age: \"))\n",
    "sal  = float(input('what is your sal: '))"
   ]
  },
  {
   "cell_type": "code",
   "execution_count": 15,
   "id": "e14a5ae5",
   "metadata": {},
   "outputs": [
    {
     "name": "stdout",
     "output_type": "stream",
     "text": [
      "pratap 23 34.0\n"
     ]
    }
   ],
   "source": [
    "print(name,age,sal)"
   ]
  },
  {
   "cell_type": "code",
   "execution_count": 17,
   "id": "67def851",
   "metadata": {},
   "outputs": [
    {
     "data": {
      "text/plain": [
       "(str, int, float)"
      ]
     },
     "execution_count": 17,
     "metadata": {},
     "output_type": "execute_result"
    }
   ],
   "source": [
    "type(name), type(age), type(sal)"
   ]
  },
  {
   "cell_type": "code",
   "execution_count": 9,
   "id": "93ff3dc0",
   "metadata": {
    "scrolled": true
   },
   "outputs": [
    {
     "name": "stdout",
     "output_type": "stream",
     "text": [
      "what is your name: Pratap Kumar Jaiswal\n",
      "what is your age: 22\n",
      "what is your sal: 34.00\n"
     ]
    }
   ],
   "source": [
    "name = input (\"what is your name: \")\n",
    "age = eval(input(\"what is your age: \"))\n",
    "sal  = eval(input('what is your sal: '))"
   ]
  },
  {
   "cell_type": "code",
   "execution_count": 10,
   "id": "15837abc",
   "metadata": {},
   "outputs": [
    {
     "name": "stdout",
     "output_type": "stream",
     "text": [
      "Pratap Kumar Jaiswal 22 34.0\n"
     ]
    }
   ],
   "source": [
    "print(name,age,sal)"
   ]
  },
  {
   "cell_type": "code",
   "execution_count": 11,
   "id": "04cbf518",
   "metadata": {},
   "outputs": [
    {
     "data": {
      "text/plain": [
       "(str, int, float)"
      ]
     },
     "execution_count": 11,
     "metadata": {},
     "output_type": "execute_result"
    }
   ],
   "source": [
    "type(name),type(age),type(sal)"
   ]
  },
  {
   "cell_type": "code",
   "execution_count": 12,
   "id": "f8206909",
   "metadata": {},
   "outputs": [
    {
     "name": "stdout",
     "output_type": "stream",
     "text": [
      "plz supply name: pratap Kumar Jaiswal\n"
     ]
    }
   ],
   "source": [
    "name = input(\"plz supply name: \").split(\",\")"
   ]
  },
  {
   "cell_type": "code",
   "execution_count": 14,
   "id": "e366fe95",
   "metadata": {},
   "outputs": [
    {
     "name": "stdout",
     "output_type": "stream",
     "text": [
      "['pratap Kumar Jaiswal']\n"
     ]
    }
   ],
   "source": [
    "print(name)"
   ]
  },
  {
   "cell_type": "code",
   "execution_count": 31,
   "id": "9bfeecf2",
   "metadata": {},
   "outputs": [
    {
     "name": "stdout",
     "output_type": "stream",
     "text": [
      "welcome to python class, Pratap\n"
     ]
    }
   ],
   "source": [
    "print(\"welcome to python class, Pratap\")"
   ]
  },
  {
   "cell_type": "code",
   "execution_count": 33,
   "id": "7ec329ef",
   "metadata": {},
   "outputs": [
    {
     "name": "stdout",
     "output_type": "stream",
     "text": [
      "-12\n"
     ]
    }
   ],
   "source": [
    "print(10+6-7*4)# BODMAS "
   ]
  },
  {
   "cell_type": "code",
   "execution_count": 42,
   "id": "27953807",
   "metadata": {},
   "outputs": [
    {
     "name": "stdout",
     "output_type": "stream",
     "text": [
      "Name-of-the-person-pratap\n"
     ]
    }
   ],
   "source": [
    "print(\"Name\",\"of\",\"the\",\"person\",\"pratap\" ,sep =\"-\")"
   ]
  },
  {
   "cell_type": "code",
   "execution_count": 43,
   "id": "c5bdd95b",
   "metadata": {},
   "outputs": [
    {
     "name": "stdout",
     "output_type": "stream",
     "text": [
      "Pratap\n",
      "jaiswal\n"
     ]
    }
   ],
   "source": [
    "print(\"Pratap\")\n",
    "print(\"jaiswal\")"
   ]
  },
  {
   "cell_type": "code",
   "execution_count": 44,
   "id": "a8ee9df6",
   "metadata": {},
   "outputs": [
    {
     "name": "stdout",
     "output_type": "stream",
     "text": [
      "Pratap/jaiswal\n"
     ]
    }
   ],
   "source": [
    "print(\"Pratap\", end = \"/\")\n",
    "print(\"jaiswal\")"
   ]
  },
  {
   "cell_type": "code",
   "execution_count": 16,
   "id": "6481c482",
   "metadata": {},
   "outputs": [
    {
     "name": "stdout",
     "output_type": "stream",
     "text": [
      "what is your name: Pratap Kumar Jaiswal\n",
      "what is your age: 22\n",
      "what is your sal: 2.3\n"
     ]
    }
   ],
   "source": [
    "name = input (\"what is your name: \")\n",
    "age = eval(input(\"what is your age: \"))\n",
    "sal  = eval(input('what is your sal: '))"
   ]
  },
  {
   "cell_type": "code",
   "execution_count": 17,
   "id": "5d4d02d1",
   "metadata": {},
   "outputs": [
    {
     "name": "stdout",
     "output_type": "stream",
     "text": [
      "Pratap Kumar Jaiswal is a Data Analatics 2.3 of in the  @ of 22\n"
     ]
    }
   ],
   "source": [
    "print(f\"{name} is a Data Analatics {sal} of in the  @ of {age}\")"
   ]
  },
  {
   "cell_type": "code",
   "execution_count": 18,
   "id": "39f21274",
   "metadata": {},
   "outputs": [
    {
     "name": "stdout",
     "output_type": "stream",
     "text": [
      "Pratap Kumar Jaiswal is a Data Analatics 2.3 of in the  @ of 22\n"
     ]
    }
   ],
   "source": [
    "print(\"{} is a Data Analatics {} of in the  @ of {}\".format(name,sal,age))"
   ]
  },
  {
   "cell_type": "code",
   "execution_count": 53,
   "id": "fe90b4dc",
   "metadata": {},
   "outputs": [
    {
     "name": "stdout",
     "output_type": "stream",
     "text": [
      "Pratap Kumar Jaiswal is a Data Analatics 1.4  sal of in the age @ of 23\n"
     ]
    }
   ],
   "source": [
    "print(name, \"is a Data Analatics\",sal, \" sal of in the age @ of\", age)"
   ]
  },
  {
   "cell_type": "markdown",
   "id": "117ec4d2",
   "metadata": {},
   "source": [
    "# Operators\n"
   ]
  },
  {
   "cell_type": "markdown",
   "id": "24495a52",
   "metadata": {},
   "source": [
    "# Arithmetics operators\n"
   ]
  },
  {
   "cell_type": "code",
   "execution_count": 55,
   "id": "fc1abc1f",
   "metadata": {},
   "outputs": [],
   "source": [
    "a = 10\n",
    "b= 20"
   ]
  },
  {
   "cell_type": "code",
   "execution_count": 56,
   "id": "e66a4302",
   "metadata": {},
   "outputs": [
    {
     "name": "stdout",
     "output_type": "stream",
     "text": [
      "10 20\n",
      "Addition of A & B == 30\n",
      "Subtraction of A & B == 10\n",
      "Multiplication of A & B == 200\n",
      "Division of a & B == 0.5\n",
      "floor Division of A & B == 0\n",
      "modulus of A & B == 0\n",
      "modulus of A & B == 1\n",
      "power of A by 2 == 400\n"
     ]
    }
   ],
   "source": [
    "print(a,b)\n",
    "print(\"Addition of A & B ==\", a + b)\n",
    "print(\"Subtraction of A & B ==\", b - a)\n",
    "print(\"Multiplication of A & B ==\",a * b)\n",
    "print(\"Division of a & B ==\", a / b)\n",
    "print(\"floor Division of A & B ==\", a//b)\n",
    "print(\"modulus of A & B ==\", a % 2)\n",
    "print(\"modulus of A & B ==\",a % 3)\n",
    "print (\"power of A by 2 ==\", b ** 2)\n"
   ]
  },
  {
   "cell_type": "markdown",
   "id": "d38da6a0",
   "metadata": {},
   "source": [
    "# Assignment operators"
   ]
  },
  {
   "cell_type": "code",
   "execution_count": 19,
   "id": "7fdd5042",
   "metadata": {},
   "outputs": [
    {
     "data": {
      "text/plain": [
       "31"
      ]
     },
     "execution_count": 19,
     "metadata": {},
     "output_type": "execute_result"
    }
   ],
   "source": [
    "a = 11\n",
    "b = 20\n",
    "c = a + b\n",
    "c"
   ]
  },
  {
   "cell_type": "code",
   "execution_count": 20,
   "id": "f569b618",
   "metadata": {},
   "outputs": [
    {
     "data": {
      "text/plain": [
       "61"
      ]
     },
     "execution_count": 20,
     "metadata": {},
     "output_type": "execute_result"
    }
   ],
   "source": [
    "c = c + 30\n",
    "c"
   ]
  },
  {
   "cell_type": "code",
   "execution_count": 21,
   "id": "6d5e8c40",
   "metadata": {},
   "outputs": [
    {
     "data": {
      "text/plain": [
       "81"
      ]
     },
     "execution_count": 21,
     "metadata": {},
     "output_type": "execute_result"
    }
   ],
   "source": [
    "c += 20\n",
    "c"
   ]
  },
  {
   "cell_type": "code",
   "execution_count": 22,
   "id": "fbd8dae5",
   "metadata": {},
   "outputs": [
    {
     "data": {
      "text/plain": [
       "61"
      ]
     },
     "execution_count": 22,
     "metadata": {},
     "output_type": "execute_result"
    }
   ],
   "source": [
    "c -= 20\n",
    "c"
   ]
  },
  {
   "cell_type": "code",
   "execution_count": 23,
   "id": "2ab7e8eb",
   "metadata": {},
   "outputs": [
    {
     "data": {
      "text/plain": [
       "122"
      ]
     },
     "execution_count": 23,
     "metadata": {},
     "output_type": "execute_result"
    }
   ],
   "source": [
    "c *= 2\n",
    "c"
   ]
  },
  {
   "cell_type": "code",
   "execution_count": 24,
   "id": "11ceddd3",
   "metadata": {},
   "outputs": [
    {
     "data": {
      "text/plain": [
       "10.166666666666666"
      ]
     },
     "execution_count": 24,
     "metadata": {},
     "output_type": "execute_result"
    }
   ],
   "source": [
    "c /= 12\n",
    "c\n"
   ]
  },
  {
   "cell_type": "code",
   "execution_count": 25,
   "id": "3d826ddb",
   "metadata": {},
   "outputs": [
    {
     "data": {
      "text/plain": [
       "103.3611111111111"
      ]
     },
     "execution_count": 25,
     "metadata": {},
     "output_type": "execute_result"
    }
   ],
   "source": [
    "c **= 2\n",
    "c"
   ]
  },
  {
   "cell_type": "markdown",
   "id": "19d36b57",
   "metadata": {},
   "source": [
    "# comparison operations\n"
   ]
  },
  {
   "cell_type": "code",
   "execution_count": 172,
   "id": "e9417c72",
   "metadata": {},
   "outputs": [
    {
     "data": {
      "text/plain": [
       "(11, 20)"
      ]
     },
     "execution_count": 172,
     "metadata": {},
     "output_type": "execute_result"
    }
   ],
   "source": [
    "a,b"
   ]
  },
  {
   "cell_type": "code",
   "execution_count": 19,
   "id": "758a61a5",
   "metadata": {},
   "outputs": [
    {
     "data": {
      "text/plain": [
       "True"
      ]
     },
     "execution_count": 19,
     "metadata": {},
     "output_type": "execute_result"
    }
   ],
   "source": [
    "a == 10"
   ]
  },
  {
   "cell_type": "code",
   "execution_count": 20,
   "id": "38e5d8e0",
   "metadata": {},
   "outputs": [
    {
     "data": {
      "text/plain": [
       "False"
      ]
     },
     "execution_count": 20,
     "metadata": {},
     "output_type": "execute_result"
    }
   ],
   "source": [
    "a == 15"
   ]
  },
  {
   "cell_type": "code",
   "execution_count": 21,
   "id": "bafb6fce",
   "metadata": {},
   "outputs": [
    {
     "data": {
      "text/plain": [
       "True"
      ]
     },
     "execution_count": 21,
     "metadata": {},
     "output_type": "execute_result"
    }
   ],
   "source": [
    "b == 20"
   ]
  },
  {
   "cell_type": "code",
   "execution_count": 22,
   "id": "4fa936d1",
   "metadata": {},
   "outputs": [
    {
     "data": {
      "text/plain": [
       "False"
      ]
     },
     "execution_count": 22,
     "metadata": {},
     "output_type": "execute_result"
    }
   ],
   "source": [
    "b == 25"
   ]
  },
  {
   "cell_type": "code",
   "execution_count": 174,
   "id": "a34716aa",
   "metadata": {},
   "outputs": [
    {
     "data": {
      "text/plain": [
       "False"
      ]
     },
     "execution_count": 174,
     "metadata": {},
     "output_type": "execute_result"
    }
   ],
   "source": [
    "a != 10"
   ]
  },
  {
   "cell_type": "code",
   "execution_count": 24,
   "id": "7a4153cf",
   "metadata": {},
   "outputs": [
    {
     "data": {
      "text/plain": [
       "True"
      ]
     },
     "execution_count": 24,
     "metadata": {},
     "output_type": "execute_result"
    }
   ],
   "source": [
    "a != 20"
   ]
  },
  {
   "cell_type": "code",
   "execution_count": 28,
   "id": "57065e39",
   "metadata": {},
   "outputs": [
    {
     "name": "stdout",
     "output_type": "stream",
     "text": [
      "greater than True\n",
      "lesser than False\n",
      "greater than or equal to True\n",
      "lesser than False\n"
     ]
    }
   ],
   "source": [
    "print(\"greater than\", a>5)\n",
    "print(\"lesser than\", a<5)\n",
    "print(\"greater than or equal to\", a>=5)\n",
    "print(\"lesser than\", a<=5)"
   ]
  },
  {
   "cell_type": "code",
   "execution_count": 176,
   "id": "0844f95a",
   "metadata": {},
   "outputs": [
    {
     "name": "stdout",
     "output_type": "stream",
     "text": [
      "True\n"
     ]
    }
   ],
   "source": [
    "x =\"apple\"\n",
    "y =\"apple\"\n",
    "print(x<=y)"
   ]
  },
  {
   "cell_type": "markdown",
   "id": "7e79d891",
   "metadata": {},
   "source": [
    "# Boolean operators"
   ]
  },
  {
   "cell_type": "code",
   "execution_count": 3,
   "id": "4d7614fa",
   "metadata": {},
   "outputs": [],
   "source": [
    "# And | Or| Not"
   ]
  },
  {
   "cell_type": "code",
   "execution_count": 4,
   "id": "c89504ab",
   "metadata": {},
   "outputs": [],
   "source": [
    "a = True\n",
    "b = False"
   ]
  },
  {
   "cell_type": "code",
   "execution_count": 7,
   "id": "25f5aaa4",
   "metadata": {},
   "outputs": [
    {
     "name": "stdout",
     "output_type": "stream",
     "text": [
      "False\n",
      "True\n",
      "True\n"
     ]
    }
   ],
   "source": [
    "print(a and b)#Returns True if both statements are true\n",
    "print(a or b)# Returns True if one of the statements is true\n",
    "print (not b)#Reverse the result, returns False if the result is true"
   ]
  },
  {
   "cell_type": "code",
   "execution_count": 11,
   "id": "c8ffcb35",
   "metadata": {},
   "outputs": [
    {
     "name": "stdout",
     "output_type": "stream",
     "text": [
      "False\n"
     ]
    }
   ],
   "source": [
    "a= 2\n",
    "b= 4\n",
    "print(a >b and b<a)"
   ]
  },
  {
   "cell_type": "markdown",
   "id": "e4d2711d",
   "metadata": {},
   "source": [
    "# membership operator"
   ]
  },
  {
   "cell_type": "code",
   "execution_count": 178,
   "id": "b1c60aa6",
   "metadata": {},
   "outputs": [
    {
     "data": {
      "text/plain": [
       "[0, 1, 2, 3, 4, 5, 6, 7, 8, 9, 10]"
      ]
     },
     "execution_count": 178,
     "metadata": {},
     "output_type": "execute_result"
    }
   ],
   "source": [
    "l = list(range(11))\n",
    "l"
   ]
  },
  {
   "cell_type": "code",
   "execution_count": 14,
   "id": "aa1b324f",
   "metadata": {},
   "outputs": [
    {
     "data": {
      "text/plain": [
       "True"
      ]
     },
     "execution_count": 14,
     "metadata": {},
     "output_type": "execute_result"
    }
   ],
   "source": [
    "5 in l"
   ]
  },
  {
   "cell_type": "code",
   "execution_count": 180,
   "id": "9a3fd66c",
   "metadata": {},
   "outputs": [
    {
     "data": {
      "text/plain": [
       "False"
      ]
     },
     "execution_count": 180,
     "metadata": {},
     "output_type": "execute_result"
    }
   ],
   "source": [
    "11 in l"
   ]
  },
  {
   "cell_type": "code",
   "execution_count": 182,
   "id": "6246caeb",
   "metadata": {},
   "outputs": [
    {
     "data": {
      "text/plain": [
       "True"
      ]
     },
     "execution_count": 182,
     "metadata": {},
     "output_type": "execute_result"
    }
   ],
   "source": [
    "11 not in l"
   ]
  },
  {
   "cell_type": "markdown",
   "id": "5c55ea2c",
   "metadata": {},
   "source": [
    "# Conditionals"
   ]
  },
  {
   "cell_type": "markdown",
   "id": "bd036d85",
   "metadata": {},
   "source": [
    "# if | elif | else"
   ]
  },
  {
   "cell_type": "code",
   "execution_count": 2,
   "id": "3a78225b",
   "metadata": {},
   "outputs": [
    {
     "data": {
      "text/plain": [
       "10"
      ]
     },
     "execution_count": 2,
     "metadata": {},
     "output_type": "execute_result"
    }
   ],
   "source": [
    "a = 10 \n",
    "a"
   ]
  },
  {
   "cell_type": "code",
   "execution_count": 183,
   "id": "75d9542a",
   "metadata": {},
   "outputs": [
    {
     "name": "stdout",
     "output_type": "stream",
     "text": [
      "A is greater than 5\n"
     ]
    }
   ],
   "source": [
    "# After writing the condition end with colon (:)\n",
    "if a > 5:\n",
    "\n",
    "\n",
    "    \n",
    "    print(\"A is greater than 5\")\n"
   ]
  },
  {
   "cell_type": "code",
   "execution_count": 8,
   "id": "28ac7064",
   "metadata": {},
   "outputs": [
    {
     "name": "stdout",
     "output_type": "stream",
     "text": [
      "B is lesser than 5 \n"
     ]
    }
   ],
   "source": [
    "b = 5\n",
    "if b > 5:\n",
    "    print(\"B is greater than 5\")\n",
    "else:\n",
    "    print(\"B is lesser than 5 \")\n",
    "    "
   ]
  },
  {
   "cell_type": "code",
   "execution_count": 188,
   "id": "de95c523",
   "metadata": {},
   "outputs": [
    {
     "name": "stdout",
     "output_type": "stream",
     "text": [
      "Enter the value: 5\n",
      "b is lesser than 5 \n"
     ]
    }
   ],
   "source": [
    "b = eval(input(\"Enter the value: \"))\n",
    "\n",
    "if b > 5:\n",
    "    print(\"B is greater than 5\")\n",
    "    \n",
    "elif b<5:\n",
    "    print(\"B is lesser than 5\")\n",
    "\n",
    "else:\n",
    "    print(\"b is lesser than 5 \")\n",
    "\n",
    "\n",
    "    "
   ]
  },
  {
   "cell_type": "code",
   "execution_count": 31,
   "id": "ea6f2377",
   "metadata": {},
   "outputs": [
    {
     "name": "stdout",
     "output_type": "stream",
     "text": [
      "Enter the Marks: 99\n",
      "student passed with 'O' \n"
     ]
    }
   ],
   "source": [
    "marks = int(input(\"Enter the Marks: \")) \n",
    "if marks > 95 and  marks <= 100:\n",
    "    print(\"student passed with 'O' \")\n",
    "elif marks > 90 and marks <= 95:\n",
    "    print(\"student passed with A+ grade\")\n",
    "elif marks > 85 and marks <= 90:\n",
    "    print(\"student passed with A grade\")\n",
    "elif marks > 80 and marks <= 85:\n",
    "    print(\"student passed with B+ grade\")\n",
    "elif marks > 75 and marks <= 80:\n",
    "    print(\"student passed with B  grade\")\n",
    "elif marks > 70 and marks <= 75:\n",
    "    print(\"student passed with c grade\")\n",
    "else:\n",
    "    print(\"student Fails\")"
   ]
  },
  {
   "cell_type": "code",
   "execution_count": 41,
   "id": "59c4fde0",
   "metadata": {},
   "outputs": [
    {
     "name": "stdout",
     "output_type": "stream",
     "text": [
      "Enter your attendence in %: 52\n",
      "Enter your marks: 75\n",
      "Student'Fails' \n"
     ]
    }
   ],
   "source": [
    "# condition in group\n",
    "attendence = eval(input(\"Enter your attendence in %: \"))\n",
    "marks = int(input(\"Enter your marks: \"))\n",
    "\n",
    "if (attendence > 75) and (marks > 95 and marks <= 100):\n",
    "    print(\"Student passed with 'O' Grade\")\n",
    "elif(attendence > 70) and (marks > 90 and marks <= 95):\n",
    "    print(\"Student passed with 'A+' \")\n",
    "elif(attendence > 65) and (marks > 80 and marks <= 85):\n",
    "    print(\"Student passed with 'A' \")\n",
    "elif(attendence > 60) and (marks > 70 and marks <= 80):\n",
    "    print(\"Student passed with 'B' \")\n",
    "elif(attendence > 55) and (marks > 60 and marks <= 70):\n",
    "    print(\"Student passed with 'C' \")\n",
    "else:\n",
    "    print(\"Student'Fails' \")"
   ]
  },
  {
   "cell_type": "markdown",
   "id": "ac266d27",
   "metadata": {},
   "source": [
    "# Module 4 in python"
   ]
  },
  {
   "cell_type": "markdown",
   "id": "fb6c2a7c",
   "metadata": {},
   "source": [
    "# Nested Condition"
   ]
  },
  {
   "cell_type": "code",
   "execution_count": 22,
   "id": "33da8a78",
   "metadata": {},
   "outputs": [
    {
     "name": "stdout",
     "output_type": "stream",
     "text": [
      "Enter the attendence in per % : 45\n",
      "Enter the obtains marks : 98\n",
      "student faill\n"
     ]
    }
   ],
   "source": [
    "attendence = eval(input(\"Enter the attendence in per % : \"))\n",
    "marks = eval(input(\"Enter the obtains marks : \"))\n",
    "\n",
    "\n",
    "if attendence >= 75:\n",
    "    if marks > 90:\n",
    "        print(\"student passed with 'A' grade\")\n",
    "        \n",
    "    elif marks >= 85:\n",
    "         print(\"student passed with 'B' grade\")\n",
    "    elif marks > 80:\n",
    "         print(\"student passed with 'C' grade\")\n",
    "            \n",
    "    elif marks < 75 and marks > 35:\n",
    "        print(\"student passed with 'D' grade\")\n",
    "else:\n",
    "    print(\"student faill\")\n",
    "        \n",
    "    \n",
    "        \n",
    "            \n",
    "        \n",
    "   \n",
    "\n",
    "    "
   ]
  },
  {
   "cell_type": "code",
   "execution_count": 48,
   "id": "c51dcdc3",
   "metadata": {},
   "outputs": [
    {
     "name": "stdout",
     "output_type": "stream",
     "text": [
      "Enter the attendence in per % : 45\n",
      "Enter the obtains marks : 89\n",
      "student have to take extra class\n"
     ]
    }
   ],
   "source": [
    "attendence = eval(input(\"Enter the attendence in per % : \"))\n",
    "marks = eval(input(\"Enter the obtains marks : \"))\n",
    "\n",
    "\n",
    "if attendence >= 75 and marks > 90:\n",
    "    print(\"student passed with 'A' grade\")\n",
    "elif attendence >= 75 and marks >= 85:\n",
    "    print(\"student passed with 'B' grade\")\n",
    "elif attendence >= 75 and marks > 80:\n",
    "    print(\"student passed with 'C' grade\")\n",
    "elif attendence >= 75 and (marks < 75 and marks > 35):\n",
    "    print(\"student passed with 'D' grade\")\n",
    "else:\n",
    "    print(\"student have to take extra class\")\n",
    "        \n",
    "    "
   ]
  },
  {
   "cell_type": "markdown",
   "id": "61897744",
   "metadata": {},
   "source": [
    "# Loops - Repeating an action/iteraction \"N\" number of times\n",
    "* FOR - Finite number of Iterations - how many the iteration has to occur\n",
    "* WHILE - Infinite number of iterations - run as long as the condition is not fulfiled\n",
    "* Break and Continue Statement"
   ]
  },
  {
   "cell_type": "markdown",
   "id": "f3a23d1a",
   "metadata": {},
   "source": [
    "#### LOOP"
   ]
  },
  {
   "cell_type": "code",
   "execution_count": 189,
   "id": "39edc63f",
   "metadata": {},
   "outputs": [
    {
     "name": "stdout",
     "output_type": "stream",
     "text": [
      "A\n",
      "B\n",
      "C\n",
      "D\n"
     ]
    }
   ],
   "source": [
    "for i in [\"A\",\"B\",\"C\",\"D\"]:\n",
    "    print(i)"
   ]
  },
  {
   "cell_type": "code",
   "execution_count": 192,
   "id": "0922212d",
   "metadata": {},
   "outputs": [
    {
     "name": "stdout",
     "output_type": "stream",
     "text": [
      "AAAA\n",
      "BBBB\n",
      "CCCC\n",
      "DDDD\n"
     ]
    }
   ],
   "source": [
    "for i in [\"A\",\"B\",\"C\",\"D\"]:\n",
    "    print(i*4)"
   ]
  },
  {
   "cell_type": "code",
   "execution_count": 200,
   "id": "46dca1d3",
   "metadata": {},
   "outputs": [
    {
     "name": "stdout",
     "output_type": "stream",
     "text": [
      "I is = A\n",
      "AAAA\n",
      "I is = B\n",
      "BBBB\n",
      "I is = C\n",
      "CCCC\n",
      "I is = D\n",
      "DDDD\n"
     ]
    }
   ],
   "source": [
    "for i in [\"A\",\"B\",\"C\",\"D\"]:\n",
    "    print(f\"I is = {i}\")\n",
    "    print(i*4)"
   ]
  },
  {
   "cell_type": "code",
   "execution_count": 203,
   "id": "c15b1b8c",
   "metadata": {},
   "outputs": [
    {
     "name": "stdout",
     "output_type": "stream",
     "text": [
      "4\n",
      "8\n",
      "12\n",
      "16\n"
     ]
    }
   ],
   "source": [
    "for i in range(1,5):\n",
    "    print(i *4)"
   ]
  },
  {
   "cell_type": "code",
   "execution_count": 205,
   "id": "a4bcf057",
   "metadata": {},
   "outputs": [
    {
     "name": "stdout",
     "output_type": "stream",
     "text": [
      "Enter the attendence in per % : 76\n",
      "Enter the obtains marks : 91\n",
      "student passed with 'A' grade\n",
      "Enter the attendence in per % : 76\n",
      "Enter the obtains marks : 85\n",
      "student passed with 'B' grade\n",
      "Enter the attendence in per % : 75\n",
      "Enter the obtains marks : 81\n",
      "student passed with 'C' grade\n",
      "Enter the attendence in per % : 75\n",
      "Enter the obtains marks : 40\n",
      "student passed with 'D' grade\n"
     ]
    }
   ],
   "source": [
    "for i in  range(4):# Multiple value can assign at a time\n",
    "    attendence = eval(input(\"Enter the attendence in per % : \"))\n",
    "    marks = eval(input(\"Enter the obtains marks : \"))\n",
    "\n",
    "\n",
    "    if attendence >= 75 and marks > 90:\n",
    "         print(\"student passed with 'A' grade\")\n",
    "    elif attendence >= 75 and marks >= 85:\n",
    "         print(\"student passed with 'B' grade\")\n",
    "    elif attendence >= 75 and marks > 80:\n",
    "         print(\"student passed with 'C' grade\")\n",
    "    elif attendence >= 75 and (marks < 75 and marks > 35):\n",
    "         print(\"student passed with 'D' grade\")\n",
    "    else:\n",
    "        print(\"student have to take extra class\")\n",
    "        \n"
   ]
  },
  {
   "cell_type": "code",
   "execution_count": 5,
   "id": "977843e5",
   "metadata": {},
   "outputs": [
    {
     "name": "stdout",
     "output_type": "stream",
     "text": [
      "\n",
      " Enter the name: Pratap Kumar Jaiswal\n",
      "Enter the attendence in per % : 89\n",
      "Enter the obtains marks : 94\n",
      "Pratap Kumar Jaiswal passed with 'A' grade\n",
      "\n",
      " Enter the name: kiwi\n",
      "Enter the attendence in per % : 78\n",
      "Enter the obtains marks : 84\n",
      "kiwi passed with 'C' grade\n",
      "\n",
      " Enter the name: richer\n",
      "Enter the attendence in per % : 72\n",
      "Enter the obtains marks : 89\n",
      "richer have to take extra class\n"
     ]
    }
   ],
   "source": [
    "for i in  range(3):# we can cheek with name of the student\n",
    "    \n",
    "    name = input(\"\\n Enter the name: \")\n",
    "    attendence = eval(input(\"Enter the attendence in per % : \"))\n",
    "    marks = eval(input(\"Enter the obtains marks : \"))\n",
    "\n",
    "\n",
    "    if attendence >= 75 and marks > 90:\n",
    "         print(f\"{name} passed with 'A' grade\")\n",
    "    elif attendence >= 75 and marks >= 85:\n",
    "         print(f\"{name} passed with 'B' grade\")\n",
    "    elif attendence >= 75 and marks > 80:\n",
    "         print(f\"{name} passed with 'C' grade\")\n",
    "    elif attendence >= 75 and (marks < 75 and marks > 35):\n",
    "         print(f\"{name} p assed with 'D' grade\")\n",
    "    else:\n",
    "        print(f\"{name} have to take extra class\")\n",
    "        \n"
   ]
  },
  {
   "cell_type": "code",
   "execution_count": 207,
   "id": "f65409d6",
   "metadata": {},
   "outputs": [],
   "source": [
    "import random\n",
    "secret_number = random.randint(10,100)"
   ]
  },
  {
   "cell_type": "code",
   "execution_count": 208,
   "id": "771efdc0",
   "metadata": {},
   "outputs": [
    {
     "name": "stdout",
     "output_type": "stream",
     "text": [
      "\n",
      " Guess a number between 10,100: 78\n",
      "guess higher,9 chance left\n",
      "\n",
      " Guess a number between 10,100: 85\n",
      "guess higher,8 chance left\n",
      "\n",
      " Guess a number between 10,100: 90\n",
      "guess higher,7 chance left\n",
      "\n",
      " Guess a number between 10,100: 92\n",
      "guess lesser,6 chance left\n",
      "\n",
      " Guess a number between 10,100: 91\n",
      "Good guess'Genius'\n",
      "\n",
      " Guess a number between 10,100: 76\n",
      "guess higher,4 chance left\n",
      "\n",
      " Guess a number between 10,100: 91\n",
      "Good guess'Genius'\n",
      "\n",
      " Guess a number between 10,100: 91\n",
      "Good guess'Genius'\n",
      "\n",
      " Guess a number between 10,100: 91\n",
      "Good guess'Genius'\n",
      "\n",
      " Guess a number between 10,100: 91\n",
      "Good guess'Genius'\n"
     ]
    }
   ],
   "source": [
    "for i in range(10):\n",
    "    guess = eval(input(\"\\n Guess a number between 10,100: \"))\n",
    "    if guess == secret_number:\n",
    "        print(\"Good guess'Genius'\")\n",
    "    elif guess > secret_number:\n",
    "        print(f\"guess lesser,{9-i} chance left\")\n",
    "    else:\n",
    "        print(f\"guess higher,{9-i} chance left\")"
   ]
  },
  {
   "cell_type": "code",
   "execution_count": 10,
   "id": "d275be20",
   "metadata": {},
   "outputs": [
    {
     "data": {
      "text/plain": [
       "[2, 4, 6, 8, 10, 12, 14, 16, 18, 20]"
      ]
     },
     "execution_count": 10,
     "metadata": {},
     "output_type": "execute_result"
    }
   ],
   "source": [
    "list(range(2,21,2))"
   ]
  },
  {
   "cell_type": "code",
   "execution_count": 15,
   "id": "864070dc",
   "metadata": {},
   "outputs": [
    {
     "name": "stdout",
     "output_type": "stream",
     "text": [
      "\n",
      " Guess a number between 10,100: 78\n",
      "guess higher,9 chance left\n",
      "\n",
      " Guess a number between 10,100: 85\n",
      "guess higher,8 chance left\n",
      "\n",
      " Guess a number between 10,100: 90\n",
      "guess lesser,7 chance left\n",
      "\n",
      " Guess a number between 10,100: 88\n",
      "guess higher,6 chance left\n",
      "\n",
      " Guess a number between 10,100: 89\n",
      "Good guess'Genius'\n"
     ]
    }
   ],
   "source": [
    "for i in range(5):\n",
    "    guess = eval(input(\"\\n Guess a number between 10,100: \"))\n",
    "    if guess == secret_number:\n",
    "        print(\"Good guess 'Genius' \")\n",
    "        break #break statement \n",
    "    elif guess > secret_number:\n",
    "        print(f\"guess lesser,{9-i} chance left\")\n",
    "    else:\n",
    "        print(f\"guess higher,{9-i} chance left\")"
   ]
  },
  {
   "cell_type": "code",
   "execution_count": 36,
   "id": "40497bb0",
   "metadata": {},
   "outputs": [
    {
     "name": "stdout",
     "output_type": "stream",
     "text": [
      "[0, 1, 2, 3, 4, 5, 6, 7, 8, 9, 10, 11, 12, 13, 14, 15, 16, 17, 18, 19, 20]\n"
     ]
    }
   ],
   "source": [
    "l = list(range(0,21))\n",
    "print(l)"
   ]
  },
  {
   "cell_type": "code",
   "execution_count": 37,
   "id": "0f0d38b8",
   "metadata": {},
   "outputs": [
    {
     "name": "stdout",
     "output_type": "stream",
     "text": [
      "0 square of,  0\n",
      "1 square of,  1\n",
      "2 square of,  4\n",
      "3 square of,  9\n",
      "4 square of,  16\n",
      "5 square of,  25\n",
      "6 square of,  36\n",
      "7 square of,  49\n",
      "8 square of,  64\n",
      "9 square of,  81\n",
      "10 square of,  100\n",
      "11 square of,  121\n",
      "12 square of,  144\n",
      "13 square of,  169\n",
      "14 square of,  196\n",
      "15 square of,  225\n",
      "16 square of,  256\n",
      "17 square of,  289\n",
      "18 square of,  324\n",
      "19 square of,  361\n",
      "20 square of,  400\n"
     ]
    }
   ],
   "source": [
    "for i in l:\n",
    "    print(f\"{i} square of {i*i}\")"
   ]
  },
  {
   "cell_type": "code",
   "execution_count": 33,
   "id": "c0b346f0",
   "metadata": {},
   "outputs": [
    {
     "name": "stdout",
     "output_type": "stream",
     "text": [
      "1 square of 1\n",
      "3 square of 9\n",
      "5 square of 25\n",
      "7 square of 49\n",
      "9 square of 81\n",
      "11 square of 121\n",
      "13 square of 169\n",
      "15 square of 225\n",
      "17 square of 289\n",
      "19 square of 361\n"
     ]
    }
   ],
   "source": [
    "for i in l:\n",
    "    if i % 2 == 0:\n",
    "        continue\n",
    "    else:\n",
    "        print(f\"{i} square of {i*i}\")"
   ]
  },
  {
   "cell_type": "code",
   "execution_count": 7,
   "id": "6d6cc20c",
   "metadata": {},
   "outputs": [
    {
     "name": "stdout",
     "output_type": "stream",
     "text": [
      "\n",
      "T\n",
      "TT\n",
      "TTT\n",
      "TTTT\n",
      "TTTTT\n",
      "TTTTTT\n",
      "TTTTTTT\n",
      "TTTTTTTT\n",
      "TTTTTTTTT\n",
      "TTTTTTTTTT\n"
     ]
    }
   ],
   "source": [
    "for i in \"PRATAP\":\n",
    "    if i in [\"T\"]:\n",
    "        for J in range(0,11):\n",
    "            print(i*J)"
   ]
  },
  {
   "cell_type": "code",
   "execution_count": 44,
   "id": "3f63a48f",
   "metadata": {},
   "outputs": [
    {
     "name": "stdout",
     "output_type": "stream",
     "text": [
      "*\n",
      "**\n",
      "***\n",
      "****\n",
      "*****\n",
      "******\n",
      "*******\n",
      "********\n",
      "*********\n",
      "**********\n",
      "*\n",
      "**\n",
      "***\n",
      "****\n",
      "*****\n",
      "******\n",
      "*******\n",
      "********\n",
      "*********\n",
      "**********\n",
      "*\n",
      "**\n",
      "***\n",
      "****\n",
      "*****\n",
      "******\n",
      "*******\n",
      "********\n",
      "*********\n",
      "**********\n",
      "*\n",
      "**\n",
      "***\n",
      "****\n",
      "*****\n",
      "******\n",
      "*******\n",
      "********\n",
      "*********\n",
      "**********\n",
      "*\n",
      "**\n",
      "***\n",
      "****\n",
      "*****\n",
      "******\n",
      "*******\n",
      "********\n",
      "*********\n",
      "**********\n"
     ]
    }
   ],
   "source": [
    "for i in \"*****\":\n",
    "        for J in range(1,11):\n",
    "            print(i*J)"
   ]
  },
  {
   "cell_type": "code",
   "execution_count": 13,
   "id": "840eadf6",
   "metadata": {},
   "outputs": [
    {
     "name": "stdout",
     "output_type": "stream",
     "text": [
      "PPP\n",
      "RRR\n",
      "\n",
      "A\n",
      "AA\n",
      "AAA\n",
      "AAAA\n",
      "AAAAA\n",
      "AAAAAA\n",
      "AAAAAAA\n",
      "AAAAAAAA\n",
      "AAAAAAAAA\n",
      "AAAAAAAAAA\n",
      "TTT\n",
      "\n",
      "A\n",
      "AA\n",
      "AAA\n",
      "AAAA\n",
      "AAAAA\n",
      "AAAAAA\n",
      "AAAAAAA\n",
      "AAAAAAAA\n",
      "AAAAAAAAA\n",
      "AAAAAAAAAA\n",
      "PPP\n"
     ]
    }
   ],
   "source": [
    "for i in \"PRATAP\":\n",
    "    if i in [\"A\",\"A\"]:\n",
    "        for J in range(0,11):\n",
    "            print(i*J)\n",
    "    else:\n",
    "        print(i*3)"
   ]
  },
  {
   "cell_type": "markdown",
   "id": "5b4310f7",
   "metadata": {},
   "source": [
    "# while loop"
   ]
  },
  {
   "cell_type": "code",
   "execution_count": 50,
   "id": "26393eb5",
   "metadata": {},
   "outputs": [
    {
     "name": "stdout",
     "output_type": "stream",
     "text": [
      "0\n",
      "1\n",
      "2\n",
      "3\n",
      "4\n"
     ]
    }
   ],
   "source": [
    "for i in range(5):# range will not work in while loop\n",
    "    print(i)\n",
    "    "
   ]
  },
  {
   "cell_type": "code",
   "execution_count": 14,
   "id": "e81fae56",
   "metadata": {},
   "outputs": [
    {
     "name": "stdout",
     "output_type": "stream",
     "text": [
      "0\n",
      "1\n",
      "2\n"
     ]
    }
   ],
   "source": [
    "a = 0\n",
    "while a!= 3:\n",
    "    print(a)\n",
    "    a += 1 \n"
   ]
  },
  {
   "cell_type": "code",
   "execution_count": 15,
   "id": "1a6928dd",
   "metadata": {},
   "outputs": [
    {
     "name": "stdout",
     "output_type": "stream",
     "text": [
      "3\n"
     ]
    }
   ],
   "source": [
    "print(a)"
   ]
  },
  {
   "cell_type": "code",
   "execution_count": 53,
   "id": "659bf742",
   "metadata": {},
   "outputs": [
    {
     "name": "stdout",
     "output_type": "stream",
     "text": [
      "I is = A\n",
      "AAAA\n",
      "I is = B\n",
      "BBBB\n",
      "I is = C\n",
      "CCCC\n",
      "I is = D\n",
      "DDDD\n"
     ]
    }
   ],
   "source": [
    "for i in [\"A\",\"B\",\"C\",\"D\"]:\n",
    "    print(f\"I is = {i}\")\n",
    "    print(i*4)"
   ]
  },
  {
   "cell_type": "code",
   "execution_count": 58,
   "id": "9120a514",
   "metadata": {},
   "outputs": [
    {
     "name": "stdout",
     "output_type": "stream",
     "text": [
      "I is = A\n",
      "AAA\n",
      "I is = B\n",
      "BBB\n",
      "I is = C\n",
      "CCC\n",
      "I is = D\n",
      "DDD\n"
     ]
    }
   ],
   "source": [
    "a = [\"A\",\"B\",\"C\",\"D\"]\n",
    "i = 0\n",
    "while len(a) != i:\n",
    "    print(f\"I is = {a[i]}\")\n",
    "    print(a[i] * 3)\n",
    "    i += 1"
   ]
  },
  {
   "cell_type": "code",
   "execution_count": 17,
   "id": "97d83073",
   "metadata": {},
   "outputs": [],
   "source": [
    "import random\n",
    "secret_number = random.randint(10,100)"
   ]
  },
  {
   "cell_type": "code",
   "execution_count": 18,
   "id": "f070b944",
   "metadata": {},
   "outputs": [
    {
     "name": "stdout",
     "output_type": "stream",
     "text": [
      "\n",
      " Guess a number between 10,100: 78\n",
      "guess higher,9 chance left\n",
      "\n",
      " Guess a number between 10,100: 85\n",
      "guess lesser,8 chance left\n",
      "\n",
      " Guess a number between 10,100: 90\n",
      "guess lesser,7 chance left\n",
      "\n",
      " Guess a number between 10,100: 87\n",
      "guess lesser,6 chance left\n",
      "\n",
      " Guess a number between 10,100: 86\n",
      "guess lesser,5 chance left\n",
      "\n",
      " Guess a number between 10,100: 80\n",
      "guess lesser,4 chance left\n",
      "\n",
      " Guess a number between 10,100: 79\n",
      "Good guess'Genius'\n",
      "\n",
      " Guess a number between 10,100: 87\n",
      "guess lesser,2 chance left\n",
      "\n",
      " Guess a number between 10,100: 98\n",
      "guess lesser,1 chance left\n",
      "\n",
      " Guess a number between 10,100: 90\n",
      "guess lesser,0 chance left\n"
     ]
    }
   ],
   "source": [
    "for i in range(10):\n",
    "    guess = eval(input(\"\\n Guess a number between 10,100: \"))\n",
    "    if guess == secret_number:\n",
    "        print(\"Good guess'Genius'\")\n",
    "    elif guess > secret_number:\n",
    "        print(f\"guess lesser,{9-i} chance left\")\n",
    "    else:\n",
    "        print(f\"guess higher,{9-i} chance left\")"
   ]
  },
  {
   "cell_type": "code",
   "execution_count": 63,
   "id": "77a0fa45",
   "metadata": {},
   "outputs": [
    {
     "name": "stdout",
     "output_type": "stream",
     "text": [
      "I is 0\n",
      "\n",
      " Guess a number between 10,100: 76\n",
      "guess lesser,4 chance left\n",
      "I is 1\n",
      "\n",
      " Guess a number between 10,100: 53\n",
      "guess lesser,3 chance left\n",
      "I is 2\n",
      "\n",
      " Guess a number between 10,100: 31\n",
      "Good guess'Genius'\n"
     ]
    }
   ],
   "source": [
    "new_no = 5\n",
    "i = 0\n",
    "while new_no != i:\n",
    "    print(f\"I is {i}\")\n",
    "    guess = eval(input(\"\\n Guess a number between 10,100: \"))\n",
    "    if guess == secret_number:s\n",
    "        print(\"Good guess'Genius'\")\n",
    "        break\n",
    "    elif guess > secret_number:\n",
    "        print(f\"guess lesser,{4-i} chance left\")\n",
    "        i += 1\n",
    "    \n",
    "    "
   ]
  },
  {
   "cell_type": "markdown",
   "id": "be10c44d",
   "metadata": {},
   "source": [
    "# user defined function"
   ]
  },
  {
   "cell_type": "code",
   "execution_count": 20,
   "id": "59c452d3",
   "metadata": {},
   "outputs": [],
   "source": [
    "def welcome():\n",
    "    name = input(\"Enter the name:\")\n",
    "    print(f\"welcome to python programming language,{name}.\")\n"
   ]
  },
  {
   "cell_type": "code",
   "execution_count": 21,
   "id": "facf7bc8",
   "metadata": {},
   "outputs": [
    {
     "name": "stdout",
     "output_type": "stream",
     "text": [
      "Enter the name:Pratap\n",
      "welcome to python programming language,Pratap.\n"
     ]
    }
   ],
   "source": [
    "welcome()"
   ]
  },
  {
   "cell_type": "code",
   "execution_count": 22,
   "id": "1b25fe70",
   "metadata": {},
   "outputs": [],
   "source": [
    "def welcome():\n",
    "    \n",
    "    \n",
    "   \n",
    "    \"\"\"\n",
    "    Purpose: Welcoming the user based on their Name\n",
    "    ==================Args=========================\n",
    "    Name: Collects the User input as name and prints it in the output\n",
    "    \"\"\"\n",
    "    name = input(\"Enter the name: \")\n",
    "    print(f\"welcome to python programming language,{name}\")\n",
    "\n",
    "    "
   ]
  },
  {
   "cell_type": "code",
   "execution_count": 8,
   "id": "a32db14a",
   "metadata": {},
   "outputs": [
    {
     "name": "stdout",
     "output_type": "stream",
     "text": [
      "Enter the name:Pratap Kumar Jaiswal\n",
      "welcome to python programming language,Pratap Kumar Jaiswal.\n"
     ]
    }
   ],
   "source": [
    "welcome()"
   ]
  },
  {
   "cell_type": "code",
   "execution_count": null,
   "id": "76cb602f",
   "metadata": {},
   "outputs": [],
   "source": [
    "welcome    # we can cheek  and read given Argument/ document (shift+tab) button"
   ]
  },
  {
   "cell_type": "code",
   "execution_count": 23,
   "id": "8f53613f",
   "metadata": {},
   "outputs": [
    {
     "name": "stdout",
     "output_type": "stream",
     "text": [
      "\n",
      "    Purpose: Welcoming the user based on their Name\n",
      "    ==================Args=========================\n",
      "    Name: Collects the User input as name and prints it in the output\n",
      "    \n"
     ]
    }
   ],
   "source": [
    "print(welcome.__doc__) # double (--doc--) to cheek documentation"
   ]
  },
  {
   "cell_type": "code",
   "execution_count": 26,
   "id": "dc391fb2",
   "metadata": {},
   "outputs": [],
   "source": [
    "def add(X,Y):\n",
    "    print(f\"added new value, {X} and {Y} is {X+Y} \")"
   ]
  },
  {
   "cell_type": "code",
   "execution_count": 27,
   "id": "b27901cf",
   "metadata": {},
   "outputs": [
    {
     "name": "stdout",
     "output_type": "stream",
     "text": [
      "added new value, 3 and 4 is 7 \n"
     ]
    }
   ],
   "source": [
    "add(3,4)"
   ]
  },
  {
   "cell_type": "code",
   "execution_count": 28,
   "id": "4ba3f1a1",
   "metadata": {},
   "outputs": [
    {
     "name": "stdout",
     "output_type": "stream",
     "text": [
      "number1: 100\n",
      "number2: 100\n",
      "added new value, 100 and 100 is 200 \n"
     ]
    }
   ],
   "source": [
    "add(int(input(\"number1: \")),int(input(\"number2: \")))"
   ]
  },
  {
   "cell_type": "code",
   "execution_count": 29,
   "id": "f2e52683",
   "metadata": {},
   "outputs": [
    {
     "name": "stdout",
     "output_type": "stream",
     "text": [
      "number1: 78\n",
      "number2: 09\n",
      "added new value, 78 and 9 is 87 \n"
     ]
    }
   ],
   "source": [
    "a,b = (int(input(\"number1: \")),int(input(\"number2: \")))\n",
    "add(a,b)"
   ]
  },
  {
   "cell_type": "code",
   "execution_count": 35,
   "id": "68f63926",
   "metadata": {},
   "outputs": [],
   "source": [
    "# function with mandtory argument\n",
    "# with (print) statement\n",
    "def add_print(X, Y):\n",
    "    print(f\"added new value, {X} and {Y} is {X+Y} \")"
   ]
  },
  {
   "cell_type": "code",
   "execution_count": 36,
   "id": "20417a07",
   "metadata": {},
   "outputs": [
    {
     "name": "stdout",
     "output_type": "stream",
     "text": [
      "added new value, 19 and 21 is 40 \n"
     ]
    }
   ],
   "source": [
    "add_print(19,21)"
   ]
  },
  {
   "cell_type": "code",
   "execution_count": 37,
   "id": "58d59b28",
   "metadata": {},
   "outputs": [
    {
     "name": "stdout",
     "output_type": "stream",
     "text": [
      "added new value, 12 and 13 is 25 \n",
      "None\n"
     ]
    }
   ],
   "source": [
    "print(add_print(12,13))"
   ]
  },
  {
   "cell_type": "code",
   "execution_count": 24,
   "id": "037a99ae",
   "metadata": {},
   "outputs": [],
   "source": [
    "def add_print(X, Y):\n",
    "    print(f\"added new value, {X} and {Y} is {X+Y} \")"
   ]
  },
  {
   "cell_type": "code",
   "execution_count": 38,
   "id": "04128b2d",
   "metadata": {},
   "outputs": [],
   "source": [
    "# function with mandtory argument\n",
    "# with (return) statement \n",
    "def add_return(X, Y):\n",
    "    return(f\"added new value, {X} and {Y} is {X+Y} \")"
   ]
  },
  {
   "cell_type": "code",
   "execution_count": 39,
   "id": "d0ca372b",
   "metadata": {},
   "outputs": [
    {
     "data": {
      "text/plain": [
       "'added new value, 45 and 45 is 90 '"
      ]
     },
     "execution_count": 39,
     "metadata": {},
     "output_type": "execute_result"
    }
   ],
   "source": [
    "add_return(45,45)"
   ]
  },
  {
   "cell_type": "code",
   "execution_count": 40,
   "id": "e9b6bf12",
   "metadata": {},
   "outputs": [
    {
     "name": "stdout",
     "output_type": "stream",
     "text": [
      "added new value, 34 and 56 is 90 \n",
      "None\n"
     ]
    }
   ],
   "source": [
    "print(add_print(34,56))"
   ]
  },
  {
   "cell_type": "markdown",
   "id": "60f4a3ea",
   "metadata": {},
   "source": [
    "# Function With Optional Argument"
   ]
  },
  {
   "cell_type": "code",
   "execution_count": 1,
   "id": "4e24be62",
   "metadata": {},
   "outputs": [],
   "source": [
    "def welcome(name, case = 'Title'):\n",
    "    if case == \"Title\":\n",
    "        \n",
    "          return f\"Welcome to Python Programming, {name.title()}\"\n",
    "    elif case == \"Upper\":\n",
    "          return f\"Welcome to Python Programming, {name.upper()}\"\n",
    "    elif case == \"Lower\":\n",
    "          return f\"Welcome to Python Programming, {name.lower()}\""
   ]
  },
  {
   "cell_type": "code",
   "execution_count": 2,
   "id": "4a35431c",
   "metadata": {},
   "outputs": [
    {
     "data": {
      "text/plain": [
       "'Welcome to Python Programming, Pratap Jaiswal'"
      ]
     },
     "execution_count": 2,
     "metadata": {},
     "output_type": "execute_result"
    }
   ],
   "source": [
    "welcome(\"pratap jaiswal\")"
   ]
  },
  {
   "cell_type": "code",
   "execution_count": 47,
   "id": "c9af95f4",
   "metadata": {},
   "outputs": [
    {
     "data": {
      "text/plain": [
       "'Welcome to Python Programming, PRATAP JAISWAL'"
      ]
     },
     "execution_count": 47,
     "metadata": {},
     "output_type": "execute_result"
    }
   ],
   "source": [
    "welcome(\"Pratap jaiswal\", case = \"Upper\")"
   ]
  },
  {
   "cell_type": "code",
   "execution_count": 48,
   "id": "e79e8882",
   "metadata": {},
   "outputs": [
    {
     "data": {
      "text/plain": [
       "'Welcome to Python Programming, pratap jaiswal'"
      ]
     },
     "execution_count": 48,
     "metadata": {},
     "output_type": "execute_result"
    }
   ],
   "source": [
    "welcome(\"Pratap jaiswal\", case = \"Lower\")"
   ]
  },
  {
   "cell_type": "markdown",
   "id": "7e1487c6",
   "metadata": {},
   "source": [
    "\n",
    "## Functions with multiple arguments and multiple key word arguments"
   ]
  },
  {
   "cell_type": "code",
   "execution_count": 6,
   "id": "8c1c5840",
   "metadata": {},
   "outputs": [],
   "source": [
    "# (*) refer to multiple argument\n",
    "def add(*nums):\n",
    "    a = 0\n",
    "    for i in nums:\n",
    "        a += i\n",
    "    return a"
   ]
  },
  {
   "cell_type": "code",
   "execution_count": 7,
   "id": "26472562",
   "metadata": {},
   "outputs": [
    {
     "data": {
      "text/plain": [
       "30"
      ]
     },
     "execution_count": 7,
     "metadata": {},
     "output_type": "execute_result"
    }
   ],
   "source": [
    "add(10,20)"
   ]
  },
  {
   "cell_type": "code",
   "execution_count": 8,
   "id": "68fd8c27",
   "metadata": {},
   "outputs": [
    {
     "data": {
      "text/plain": [
       "540"
      ]
     },
     "execution_count": 8,
     "metadata": {},
     "output_type": "execute_result"
    }
   ],
   "source": [
    "add(90,90,90,90,90,90)"
   ]
  },
  {
   "cell_type": "code",
   "execution_count": 9,
   "id": "31e21f94",
   "metadata": {},
   "outputs": [
    {
     "data": {
      "text/plain": [
       "[2, 4, 6, 8, 10, 12, 14, 16, 18, 20]"
      ]
     },
     "execution_count": 9,
     "metadata": {},
     "output_type": "execute_result"
    }
   ],
   "source": [
    "list(range(2,21,2))"
   ]
  },
  {
   "cell_type": "code",
   "execution_count": 10,
   "id": "aff02067",
   "metadata": {},
   "outputs": [
    {
     "data": {
      "text/plain": [
       "110"
      ]
     },
     "execution_count": 10,
     "metadata": {},
     "output_type": "execute_result"
    }
   ],
   "source": [
    "add(2, 4, 6, 8, 10, 12, 14, 16, 18, 20)"
   ]
  },
  {
   "cell_type": "code",
   "execution_count": 3,
   "id": "e789f982",
   "metadata": {},
   "outputs": [],
   "source": [
    "# (*) refer to multiple argument\n",
    "def subt(*nums):\n",
    "    a = 0\n",
    "    for i in nums:\n",
    "        a -= i\n",
    "    return a"
   ]
  },
  {
   "cell_type": "code",
   "execution_count": 6,
   "id": "2436e232",
   "metadata": {},
   "outputs": [
    {
     "data": {
      "text/plain": [
       "-150"
      ]
     },
     "execution_count": 6,
     "metadata": {},
     "output_type": "execute_result"
    }
   ],
   "source": [
    "subt(50,100)"
   ]
  },
  {
   "cell_type": "code",
   "execution_count": 14,
   "id": "b81ff4c9",
   "metadata": {},
   "outputs": [],
   "source": [
    "def welcome(*name):\n",
    "    for i in name:\n",
    "        print(f\"welcome to python programming,{i}\")"
   ]
  },
  {
   "cell_type": "code",
   "execution_count": 19,
   "id": "087c8ac8",
   "metadata": {},
   "outputs": [
    {
     "name": "stdout",
     "output_type": "stream",
     "text": [
      "welcome to python programming,pratap\n",
      "welcome to python programming,jaiswal\n",
      "welcome to python programming,ramesh\n"
     ]
    }
   ],
   "source": [
    "welcome(\"pratap\",\"jaiswal\",\"ramesh\")"
   ]
  },
  {
   "cell_type": "code",
   "execution_count": 25,
   "id": "bb0e4316",
   "metadata": {},
   "outputs": [],
   "source": [
    "# (**) refer to multiple keyword  argument\n",
    "def avg_marks (**subjects):\n",
    "    a = list(subjects.values())\n",
    "    print(f\"{list(subjects.keys())} are the subjects chosen by the student\") \n",
    "    print(f\"{list(subjects.values())} are the marks scored by the student\")\n",
    "    print(f\" {round (sum(a)/len (a), 2)} is the average mark scored by the student\")"
   ]
  },
  {
   "cell_type": "code",
   "execution_count": 26,
   "id": "650f33d0",
   "metadata": {},
   "outputs": [
    {
     "data": {
      "text/plain": [
       "{'Maths': 75, 'Physics': 78, 'Chemistry': 55}"
      ]
     },
     "execution_count": 26,
     "metadata": {},
     "output_type": "execute_result"
    }
   ],
   "source": [
    "d = { 'Maths': 75, \"Physics\" : 78, \"Chemistry\" : 55} \n",
    "d"
   ]
  },
  {
   "cell_type": "code",
   "execution_count": 27,
   "id": "19bee02d",
   "metadata": {},
   "outputs": [
    {
     "data": {
      "text/plain": [
       "dict_values([75, 78, 55])"
      ]
     },
     "execution_count": 27,
     "metadata": {},
     "output_type": "execute_result"
    }
   ],
   "source": [
    "d.values()"
   ]
  },
  {
   "cell_type": "code",
   "execution_count": 28,
   "id": "0a58e5b2",
   "metadata": {},
   "outputs": [
    {
     "name": "stdout",
     "output_type": "stream",
     "text": [
      "['maths', 'physics', 'chemistry'] are the subjects chosen by the student\n",
      "[75, 78, 55] are the marks scored by the student\n",
      " 69.33 is the average mark scored by the student\n"
     ]
    }
   ],
   "source": [
    "avg_marks(maths=75,physics = 78, chemistry = 55)"
   ]
  },
  {
   "cell_type": "markdown",
   "id": "b0f4bcfe",
   "metadata": {},
   "source": [
    "### Armstrong number"
   ]
  },
  {
   "cell_type": "code",
   "execution_count": null,
   "id": "1235099b",
   "metadata": {},
   "outputs": [],
   "source": [
    "# Here are all the Armstrong numbers from 1 to 10,000:\n",
    "1. 1\n",
    "2. 2\n",
    "3. 3\n",
    "4. 4\n",
    "5. 5\n",
    "6. 6\n",
    "7. 7\n",
    "8. 8\n",
    "9. 9\n",
    "10. 153\n",
    "11. 370\n",
    "12. 371\n",
    "13. 407\n",
    "14. 1634\n",
    "15. 8208\n",
    "16. 9474\n",
    "\n"
   ]
  },
  {
   "cell_type": "code",
   "execution_count": null,
   "id": "bba5901e",
   "metadata": {},
   "outputs": [],
   "source": [
    "# 153 is a armstrong no\n",
    "#1 ** 35 ** 3 + 3 ** 3\n",
    "# 1 + 125 + 27\n",
    "#126+27\n",
    "#153"
   ]
  },
  {
   "cell_type": "code",
   "execution_count": 2,
   "id": "a7f2dcbe",
   "metadata": {},
   "outputs": [
    {
     "name": "stdout",
     "output_type": "stream",
     "text": [
      "Please enter any number: 667\n",
      "216\n",
      "216\n",
      "343\n",
      "Not an Armstrong Number\n"
     ]
    }
   ],
   "source": [
    "num = eval(input(\"Please enter any number: \"))\n",
    "n = len(str(num))\n",
    "tot = 0\n",
    "for i in str(num):\n",
    "    print(int(i) ** n)\n",
    "    tot += int(i) ** n\n",
    "if tot == num:\n",
    "    print(\"Armstrong Number\") \n",
    "else:\n",
    "    print(\"Not an Armstrong Number\")"
   ]
  },
  {
   "cell_type": "markdown",
   "id": "ac132c0c",
   "metadata": {},
   "source": [
    "# Module 6 in python"
   ]
  },
  {
   "cell_type": "markdown",
   "id": "e0838ab5",
   "metadata": {},
   "source": [
    "## comprehension "
   ]
  },
  {
   "cell_type": "code",
   "execution_count": 3,
   "id": "933ce922",
   "metadata": {},
   "outputs": [
    {
     "data": {
      "text/plain": [
       "[1, 2, 3, 4, 5, 6]"
      ]
     },
     "execution_count": 3,
     "metadata": {},
     "output_type": "execute_result"
    }
   ],
   "source": [
    "# list \n",
    "a = [1,2,3,4,5,6]\n",
    "a"
   ]
  },
  {
   "cell_type": "code",
   "execution_count": 4,
   "id": "d66fc9a3",
   "metadata": {},
   "outputs": [
    {
     "name": "stdout",
     "output_type": "stream",
     "text": [
      "11\n",
      "12\n",
      "13\n",
      "14\n",
      "15\n",
      "16\n"
     ]
    }
   ],
   "source": [
    "for i in a:\n",
    "    print(i+ 10)"
   ]
  },
  {
   "cell_type": "code",
   "execution_count": 5,
   "id": "386d5a98",
   "metadata": {},
   "outputs": [],
   "source": [
    "b = []\n",
    "for i in a:\n",
    "    b.append(i+10)"
   ]
  },
  {
   "cell_type": "code",
   "execution_count": 6,
   "id": "ded4681d",
   "metadata": {},
   "outputs": [
    {
     "data": {
      "text/plain": [
       "[11, 12, 13, 14, 15, 16]"
      ]
     },
     "execution_count": 6,
     "metadata": {},
     "output_type": "execute_result"
    }
   ],
   "source": [
    "b"
   ]
  },
  {
   "cell_type": "code",
   "execution_count": 7,
   "id": "7bcdad3c",
   "metadata": {},
   "outputs": [
    {
     "data": {
      "text/plain": [
       "[11, 12, 13, 14, 15, 16]"
      ]
     },
     "execution_count": 7,
     "metadata": {},
     "output_type": "execute_result"
    }
   ],
   "source": [
    "# Comprehensions Lists, Sets & Dict - \n",
    "[i+10 for i in a] # Desired Output, Define your condition"
   ]
  },
  {
   "cell_type": "code",
   "execution_count": 8,
   "id": "3259c6ba",
   "metadata": {},
   "outputs": [
    {
     "data": {
      "text/plain": [
       "[1, 2, 3, 4, 5, 6]"
      ]
     },
     "execution_count": 8,
     "metadata": {},
     "output_type": "execute_result"
    }
   ],
   "source": [
    "a"
   ]
  },
  {
   "cell_type": "code",
   "execution_count": 9,
   "id": "28b71776",
   "metadata": {},
   "outputs": [
    {
     "data": {
      "text/plain": [
       "[101, 102, 103, 104, 105, 106]"
      ]
     },
     "execution_count": 9,
     "metadata": {},
     "output_type": "execute_result"
    }
   ],
   "source": [
    "[j+100 for j in a] # list"
   ]
  },
  {
   "cell_type": "code",
   "execution_count": 10,
   "id": "de9d8443",
   "metadata": {},
   "outputs": [
    {
     "data": {
      "text/plain": [
       "[11, 12, 13, 14, 15, 16]"
      ]
     },
     "execution_count": 10,
     "metadata": {},
     "output_type": "execute_result"
    }
   ],
   "source": [
    "[i+10 for i in a]"
   ]
  },
  {
   "cell_type": "code",
   "execution_count": 11,
   "id": "a7bc8129",
   "metadata": {},
   "outputs": [
    {
     "data": {
      "text/plain": [
       "[11, 13, 15]"
      ]
     },
     "execution_count": 11,
     "metadata": {},
     "output_type": "execute_result"
    }
   ],
   "source": [
    "[i+10 for i in a if i%2 == 1]"
   ]
  },
  {
   "cell_type": "code",
   "execution_count": 12,
   "id": "b5737349",
   "metadata": {},
   "outputs": [
    {
     "data": {
      "text/plain": [
       "[1, 4, 9, 16, 25, 36]"
      ]
     },
     "execution_count": 12,
     "metadata": {},
     "output_type": "execute_result"
    }
   ],
   "source": [
    "# [expected_output, defining_logics_for_output] \n",
    "[i ** 2 for i in a]"
   ]
  },
  {
   "cell_type": "code",
   "execution_count": 13,
   "id": "6e3309d6",
   "metadata": {},
   "outputs": [
    {
     "data": {
      "text/plain": [
       "[1, 9, 25]"
      ]
     },
     "execution_count": 13,
     "metadata": {},
     "output_type": "execute_result"
    }
   ],
   "source": [
    "[i ** 2 for i in a if i % 2 !=0]"
   ]
  },
  {
   "cell_type": "code",
   "execution_count": 14,
   "id": "3b01a209",
   "metadata": {},
   "outputs": [
    {
     "data": {
      "text/plain": [
       "[1, 9, 25]"
      ]
     },
     "execution_count": 14,
     "metadata": {},
     "output_type": "execute_result"
    }
   ],
   "source": [
    "[i**2 for i in a if i%2 == 1]"
   ]
  },
  {
   "cell_type": "code",
   "execution_count": 15,
   "id": "ae997523",
   "metadata": {},
   "outputs": [
    {
     "ename": "SyntaxError",
     "evalue": "invalid syntax (2535078996.py, line 1)",
     "output_type": "error",
     "traceback": [
      "\u001b[1;36m  Cell \u001b[1;32mIn[15], line 1\u001b[1;36m\u001b[0m\n\u001b[1;33m    [i**3 for i in a if i%2 != 0 else i]\u001b[0m\n\u001b[1;37m                                 ^\u001b[0m\n\u001b[1;31mSyntaxError\u001b[0m\u001b[1;31m:\u001b[0m invalid syntax\n"
     ]
    }
   ],
   "source": [
    "[i**3 for i in a if i%2 != 0 else i]"
   ]
  },
  {
   "cell_type": "code",
   "execution_count": 16,
   "id": "21b76a88",
   "metadata": {},
   "outputs": [
    {
     "data": {
      "text/plain": [
       "[1, 2, 27, 4, 125, 6]"
      ]
     },
     "execution_count": 16,
     "metadata": {},
     "output_type": "execute_result"
    }
   ],
   "source": [
    "[i**3 if i%2 != 0 else i for i in a ]"
   ]
  },
  {
   "cell_type": "code",
   "execution_count": 19,
   "id": "e25ba155",
   "metadata": {},
   "outputs": [
    {
     "data": {
      "text/plain": [
       "[1, 2, 81, 4, 625, 6]"
      ]
     },
     "execution_count": 19,
     "metadata": {},
     "output_type": "execute_result"
    }
   ],
   "source": [
    "[i**4 if i%2 == 1 else i for i in a ]"
   ]
  },
  {
   "cell_type": "code",
   "execution_count": 20,
   "id": "7c042d85",
   "metadata": {},
   "outputs": [
    {
     "data": {
      "text/plain": [
       "[1, 4, 81, 16, 625, 36]"
      ]
     },
     "execution_count": 20,
     "metadata": {},
     "output_type": "execute_result"
    }
   ],
   "source": [
    "[i**4 if i%2 == 1 else i**2 for i in a ]"
   ]
  },
  {
   "cell_type": "code",
   "execution_count": 23,
   "id": "56815862",
   "metadata": {},
   "outputs": [
    {
     "data": {
      "text/plain": [
       "{1, 4, 16, 36, 81, 625}"
      ]
     },
     "execution_count": 23,
     "metadata": {},
     "output_type": "execute_result"
    }
   ],
   "source": [
    "#set \n",
    "s = {i**4 if i%2 == 1 else i**2 for i in a}\n",
    "s"
   ]
  },
  {
   "cell_type": "code",
   "execution_count": 43,
   "id": "fd8ed7b5",
   "metadata": {},
   "outputs": [
    {
     "data": {
      "text/plain": [
       "{'subject': 'python', 'topic': 'comprehensions', 'student': 85}"
      ]
     },
     "execution_count": 43,
     "metadata": {},
     "output_type": "execute_result"
    }
   ],
   "source": [
    "# dictonary \n",
    "d = {\"subject\":\"python\",\"topic\":\"comprehensions\",'student':85}\n",
    "d"
   ]
  },
  {
   "cell_type": "code",
   "execution_count": 26,
   "id": "adff93a1",
   "metadata": {},
   "outputs": [
    {
     "data": {
      "text/plain": [
       "{85, 'comprehensions', 'python'}"
      ]
     },
     "execution_count": 26,
     "metadata": {},
     "output_type": "execute_result"
    }
   ],
   "source": [
    "b = {i for i in d.values()}\n",
    "b"
   ]
  },
  {
   "cell_type": "code",
   "execution_count": 27,
   "id": "504a536b",
   "metadata": {},
   "outputs": [
    {
     "data": {
      "text/plain": [
       "{'student', 'subject', 'topic'}"
      ]
     },
     "execution_count": 27,
     "metadata": {},
     "output_type": "execute_result"
    }
   ],
   "source": [
    "b = {i for i in d.keys()}\n",
    "b"
   ]
  },
  {
   "cell_type": "code",
   "execution_count": 30,
   "id": "c18050ba",
   "metadata": {},
   "outputs": [
    {
     "data": {
      "text/plain": [
       "set"
      ]
     },
     "execution_count": 30,
     "metadata": {},
     "output_type": "execute_result"
    }
   ],
   "source": [
    "type(b)"
   ]
  },
  {
   "cell_type": "code",
   "execution_count": 34,
   "id": "15892e6f",
   "metadata": {},
   "outputs": [
    {
     "data": {
      "text/plain": [
       "{'subject': 'python', 'topic': 'comprehensions', 'student': 85}"
      ]
     },
     "execution_count": 34,
     "metadata": {},
     "output_type": "execute_result"
    }
   ],
   "source": [
    "{i:j for i,j in d.items()}"
   ]
  },
  {
   "cell_type": "code",
   "execution_count": 46,
   "id": "62cbc02c",
   "metadata": {},
   "outputs": [
    {
     "data": {
      "text/plain": [
       "{'student': 85}"
      ]
     },
     "execution_count": 46,
     "metadata": {},
     "output_type": "execute_result"
    }
   ],
   "source": [
    "{i:j for i,j in d.items() if j == 85}"
   ]
  },
  {
   "cell_type": "code",
   "execution_count": 58,
   "id": "0676a87f",
   "metadata": {},
   "outputs": [],
   "source": [
    "import names # used to generate random names\n",
    "import random # used to generate random values"
   ]
  },
  {
   "cell_type": "code",
   "execution_count": 61,
   "id": "73f9d3ce",
   "metadata": {},
   "outputs": [],
   "source": [
    "student = [names.get_first_name() for i in range(5)]\n",
    "marks = [random.randint(35,100) for i in range(5)]\n"
   ]
  },
  {
   "cell_type": "code",
   "execution_count": 64,
   "id": "dc81277e",
   "metadata": {},
   "outputs": [
    {
     "data": {
      "text/plain": [
       "['Tiffany', 'Elaine', 'Brandon', 'Leo', 'Estella']"
      ]
     },
     "execution_count": 64,
     "metadata": {},
     "output_type": "execute_result"
    }
   ],
   "source": [
    "[names.get_first_name() for i in range(5)]"
   ]
  },
  {
   "cell_type": "code",
   "execution_count": 65,
   "id": "cfd6cad3",
   "metadata": {},
   "outputs": [
    {
     "data": {
      "text/plain": [
       "[65, 44, 81, 75, 91]"
      ]
     },
     "execution_count": 65,
     "metadata": {},
     "output_type": "execute_result"
    }
   ],
   "source": [
    "[random.randint(35, 100) for i in range(5)]"
   ]
  },
  {
   "cell_type": "code",
   "execution_count": 66,
   "id": "9a6fe599",
   "metadata": {},
   "outputs": [
    {
     "name": "stdout",
     "output_type": "stream",
     "text": [
      "['David', 'Michael', 'Wayne', 'Bonnie', 'Nicholas']\n"
     ]
    }
   ],
   "source": [
    "print(students)"
   ]
  },
  {
   "cell_type": "code",
   "execution_count": 67,
   "id": "831ca668",
   "metadata": {},
   "outputs": [
    {
     "name": "stdout",
     "output_type": "stream",
     "text": [
      "[52, 95, 56, 37, 49]\n"
     ]
    }
   ],
   "source": [
    "print(marks)"
   ]
  },
  {
   "cell_type": "code",
   "execution_count": 68,
   "id": "ce152e56",
   "metadata": {},
   "outputs": [
    {
     "data": {
      "text/plain": [
       "{'David': 52, 'Michael': 95, 'Wayne': 56, 'Bonnie': 37, 'Nicholas': 49}"
      ]
     },
     "execution_count": 68,
     "metadata": {},
     "output_type": "execute_result"
    }
   ],
   "source": [
    "{i:j for i,j in zip(students,marks)}"
   ]
  },
  {
   "cell_type": "code",
   "execution_count": null,
   "id": "d5cce7e6",
   "metadata": {},
   "outputs": [],
   "source": []
  }
 ],
 "metadata": {
  "kernelspec": {
   "display_name": "Python 3 (ipykernel)",
   "language": "python",
   "name": "python3"
  },
  "language_info": {
   "codemirror_mode": {
    "name": "ipython",
    "version": 3
   },
   "file_extension": ".py",
   "mimetype": "text/x-python",
   "name": "python",
   "nbconvert_exporter": "python",
   "pygments_lexer": "ipython3",
   "version": "3.10.9"
  }
 },
 "nbformat": 4,
 "nbformat_minor": 5
}
